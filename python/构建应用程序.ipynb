{
 "cells": [
  {
   "cell_type": "markdown",
   "metadata": {},
   "source": [
    "# 自动补全联系人"
   ]
  },
  {
   "cell_type": "code",
   "execution_count": 108,
   "metadata": {},
   "outputs": [],
   "source": [
    "import redis\n",
    "import time\n",
    "import datetime\n",
    "import bisect\n",
    "import uuid\n",
    "import math\n",
    "conn = redis.Redis(decode_responses=True)"
   ]
  },
  {
   "cell_type": "code",
   "execution_count": 7,
   "metadata": {},
   "outputs": [],
   "source": [
    "def add_update_contact(conn, user, contact):\n",
    "    ac_list = 'recent:'+user\n",
    "    pipe = conn.pipeline(True)\n",
    "    pipe.lrem(ac_list, 0, contact)\n",
    "    pipe.lpush(ac_list, contact)\n",
    "    pipe.ltrim(ac_list, 0, 10)\n",
    "    pipe.execute()"
   ]
  },
  {
   "cell_type": "code",
   "execution_count": 16,
   "metadata": {},
   "outputs": [],
   "source": [
    "def fetch_autocomplete_list(conn, user, prefix):\n",
    "    candidates = list(conn.lrange('recent:'+user, 0, -1))\n",
    "    matches = []\n",
    "    for candidate in candidates:\n",
    "        if candidate.lower().startswith(prefix):\n",
    "            matches.append(candidate)\n",
    "    return matches"
   ]
  },
  {
   "cell_type": "code",
   "execution_count": 17,
   "metadata": {},
   "outputs": [],
   "source": [
    "add_update_contact(conn,'user1','cont')"
   ]
  },
  {
   "cell_type": "code",
   "execution_count": 18,
   "metadata": {},
   "outputs": [
    {
     "data": {
      "text/plain": [
       "['cont']"
      ]
     },
     "execution_count": 18,
     "metadata": {},
     "output_type": "execute_result"
    }
   ],
   "source": [
    "fetch_autocomplete_list(conn,'user1','con')"
   ]
  },
  {
   "cell_type": "code",
   "execution_count": 20,
   "metadata": {},
   "outputs": [],
   "source": [
    "# 通过插入在有序列表中插入前缀之前的一个字符串和之后的一个字符串来获取中间满足条件的字符串\n",
    "validate_characters = '`abcdefghijklmnopqrstuvwxyz{'\n",
    "\n",
    "def find_prefix_range(prefix):\n",
    "    posn = bisect.bisect_left(validate_characters, prefix[-1:])\n",
    "    suffix = validate_characters[(posn or 1) - 1]\n",
    "    return prefix[:-1]+suffix+'{', prefix+'}'\n"
   ]
  },
  {
   "cell_type": "code",
   "execution_count": 30,
   "metadata": {},
   "outputs": [],
   "source": [
    "def autocomplete_on_prefix(conn, guild, prefix):\n",
    "    start, end = find_prefix_range(prefix)\n",
    "    identifier = str(uuid.uuid4())\n",
    "    start += identifier\n",
    "    end += identifier\n",
    "    zset_name = 'members:'+guild\n",
    "    \n",
    "    conn.zadd(zset_name, {start: 0, end: 0})\n",
    "    pipe = conn.pipeline(True)\n",
    "    while True:\n",
    "        try:\n",
    "            pipe.watch(zset_name)\n",
    "            sindex = pipe.zrank(zset_name, start)\n",
    "            eindex = pipe.zrank(zset_name, end)\n",
    "            erange = min(sindex + 9, eindex-2)\n",
    "            pipe.multi()\n",
    "            \n",
    "            pipe.zrem(zset_name, start, end)\n",
    "            pipe.zrange(zset_name, sindex, erange)\n",
    "            items = pipe.execute()[-1]\n",
    "            break\n",
    "        except redis.exceptions.WatchError:\n",
    "            continue\n",
    "    return [item for item in items if '{' not in item]"
   ]
  },
  {
   "cell_type": "code",
   "execution_count": 23,
   "metadata": {},
   "outputs": [],
   "source": [
    "def join_guild(conn, guild, user):\n",
    "    conn.zadd('members:'+guild, {user:0})\n",
    "    \n",
    "def leave_guild(conn, guild, user):\n",
    "    conn.zrem('members:'+guild, user)"
   ]
  },
  {
   "cell_type": "code",
   "execution_count": 26,
   "metadata": {},
   "outputs": [],
   "source": [
    "join_guild(conn, 'guild1', 'use2')"
   ]
  },
  {
   "cell_type": "markdown",
   "metadata": {},
   "source": [
    "conn.zrange('members:guild1',0,-1, withscores=True)"
   ]
  },
  {
   "cell_type": "code",
   "execution_count": 32,
   "metadata": {},
   "outputs": [
    {
     "data": {
      "text/plain": [
       "['user1', 'user2']"
      ]
     },
     "execution_count": 32,
     "metadata": {},
     "output_type": "execute_result"
    }
   ],
   "source": [
    "autocomplete_on_prefix(conn, 'guild1', 'user')"
   ]
  },
  {
   "cell_type": "markdown",
   "metadata": {},
   "source": [
    "# 锁"
   ]
  },
  {
   "cell_type": "code",
   "execution_count": 107,
   "metadata": {},
   "outputs": [],
   "source": [
    "def acquire_lock(conn, lockname, acquire_timeout=10):\n",
    "    identifier = str(uuid.uuid4())\n",
    "    \n",
    "    end = time.time() + acquire_timeout\n",
    "    while time.time() < end:\n",
    "        if conn.setnx('lock:'+lockname, identifier):\n",
    "            return identifier\n",
    "        time.sleep(.001)\n",
    "    return False\n",
    "\n",
    "def release_lock(conn, lockname, identifier):\n",
    "    pipe = conn.pipeline(True)\n",
    "    lockname = 'lock:' + lockname\n",
    "    \n",
    "    while True:\n",
    "        try:\n",
    "            pipe.watch(lockname)\n",
    "            if pipe.get(lockname) == identifier:\n",
    "                pipe.multi()\n",
    "                pipe.delete(lockname)\n",
    "                pipe.execute()\n",
    "                return True\n",
    "            pipe.unwatch()\n",
    "            break\n",
    "        except redis.exceptions.RedisError:\n",
    "            pass\n",
    "        return False"
   ]
  },
  {
   "cell_type": "code",
   "execution_count": 122,
   "metadata": {},
   "outputs": [],
   "source": [
    "def purchase_item_with_lock(conn, buyerid, itemid, sellerid):\n",
    "    buyer = 'users:%s' % buyerid\n",
    "    seller = 'users:%s' % sellerid\n",
    "    item = '%s.%s' %(itemid, sellerid)\n",
    "    inventory = 'inventory:%s' %buyerid\n",
    "    \n",
    "    #locked = acquire_lock(conn, 'market:')\n",
    "    locked = acquire_lock_with_timeout(conn, 'market:')\n",
    "    if not locked:\n",
    "        print('获取锁失败')\n",
    "        return False\n",
    "    pipe = conn.pipeline(True) \n",
    "    try:\n",
    "        pipe.zscore('market:', item)\n",
    "        pipe.hget(buyer, 'funds')\n",
    "        price, funds = map(int,pipe.execute())\n",
    "        if price is None or price > funds:\n",
    "            return None\n",
    "        pipe.hincrby(seller, 'funds' , int(price))\n",
    "        pipe.hincrby(buyer, 'funds', int(-price))\n",
    "        pipe.sadd(inventory, itemid)\n",
    "        pipe.zrem('market:', item)\n",
    "        pipe.execute()\n",
    "        return True\n",
    "    finally:\n",
    "        release_lock(conn, 'market:', locked)"
   ]
  },
  {
   "cell_type": "code",
   "execution_count": 124,
   "metadata": {},
   "outputs": [
    {
     "data": {
      "text/plain": [
       "[]"
      ]
     },
     "execution_count": 124,
     "metadata": {},
     "output_type": "execute_result"
    }
   ],
   "source": [
    "conn.zrange('market:', 0, -1, withscores=True)"
   ]
  },
  {
   "cell_type": "code",
   "execution_count": 125,
   "metadata": {},
   "outputs": [
    {
     "data": {
      "text/plain": [
       "{'itemD', 'itemE', 'itemF', 'itemG', 'itemH', 'itemL'}"
      ]
     },
     "execution_count": 125,
     "metadata": {},
     "output_type": "execute_result"
    }
   ],
   "source": [
    "conn.smembers('inventory:2')"
   ]
  },
  {
   "cell_type": "code",
   "execution_count": 126,
   "metadata": {},
   "outputs": [
    {
     "data": {
      "text/plain": [
       "{'itemG', 'itemH'}"
      ]
     },
     "execution_count": 126,
     "metadata": {},
     "output_type": "execute_result"
    }
   ],
   "source": [
    "conn.smembers('inventory:1')"
   ]
  },
  {
   "cell_type": "code",
   "execution_count": 127,
   "metadata": {},
   "outputs": [
    {
     "data": {
      "text/plain": [
       "{'name': 'jim', 'funds': '140'}"
      ]
     },
     "execution_count": 127,
     "metadata": {},
     "output_type": "execute_result"
    }
   ],
   "source": [
    "conn.hgetall('users:1')"
   ]
  },
  {
   "cell_type": "code",
   "execution_count": 128,
   "metadata": {},
   "outputs": [
    {
     "data": {
      "text/plain": [
       "{'name': 'tom', 'funds': '3'}"
      ]
     },
     "execution_count": 128,
     "metadata": {},
     "output_type": "execute_result"
    }
   ],
   "source": [
    "conn.hgetall('users:2')"
   ]
  },
  {
   "cell_type": "code",
   "execution_count": 123,
   "metadata": {},
   "outputs": [
    {
     "data": {
      "text/plain": [
       "True"
      ]
     },
     "execution_count": 123,
     "metadata": {},
     "output_type": "execute_result"
    }
   ],
   "source": [
    "purchase_item_with_lock(conn, 2, 'itemL',1)"
   ]
  },
  {
   "cell_type": "code",
   "execution_count": 121,
   "metadata": {},
   "outputs": [],
   "source": [
    "def acquire_lock_with_timeout(conn, lockname, acquire_timeout=10, lock_timeout=10):\n",
    "    identifier = str(uuid.uuid4())\n",
    "    lockname = 'lock:'+lockname\n",
    "    lock_timeout = int(math.ceil(lock_timeout))\n",
    "    \n",
    "    end = time.time() + acquire_timeout\n",
    "    while time.time() < end:\n",
    "        if conn.setnx(lockname,  identifier):\n",
    "            conn.expire(lockname, lock_timeout)\n",
    "            return identifier\n",
    "        elif not conn.ttl(lockname):\n",
    "            conn.expire(lockname, lock_timeout)\n",
    "        time.sleep(.001)\n",
    "    return False\n",
    "    "
   ]
  },
  {
   "cell_type": "code",
   "execution_count": 120,
   "metadata": {},
   "outputs": [],
   "source": [
    "conn.get('lock:market:')"
   ]
  },
  {
   "cell_type": "code",
   "execution_count": null,
   "metadata": {},
   "outputs": [],
   "source": []
  }
 ],
 "metadata": {
  "kernelspec": {
   "display_name": "Python 3",
   "language": "python",
   "name": "python3"
  },
  "language_info": {
   "codemirror_mode": {
    "name": "ipython",
    "version": 3
   },
   "file_extension": ".py",
   "mimetype": "text/x-python",
   "name": "python",
   "nbconvert_exporter": "python",
   "pygments_lexer": "ipython3",
   "version": "3.7.3"
  }
 },
 "nbformat": 4,
 "nbformat_minor": 2
}
