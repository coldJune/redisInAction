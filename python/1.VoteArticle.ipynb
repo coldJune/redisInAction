{
 "cells": [
  {
   "cell_type": "code",
   "execution_count": 1,
   "metadata": {},
   "outputs": [],
   "source": [
    "import redis\n",
    "import time"
   ]
  },
  {
   "cell_type": "code",
   "execution_count": 2,
   "metadata": {},
   "outputs": [],
   "source": [
    "rd = redis.Redis()"
   ]
  },
  {
   "cell_type": "code",
   "execution_count": 3,
   "metadata": {},
   "outputs": [],
   "source": [
    "ONE_WEEK_IN_SECONDS = 7* 86400\n",
    "#ONE_WEEK_IN_SECONDS=60\n",
    "VOTE_SCORE_BASIC = 432.0"
   ]
  },
  {
   "cell_type": "code",
   "execution_count": 4,
   "metadata": {},
   "outputs": [],
   "source": [
    "def article_vote(rd, user, article):\n",
    "    \"\"\"对文章进行投票\n",
    "    \"\"\"\n",
    "    # 计算截止时间\n",
    "    # 如果时间是在7天以前则不允许投票\n",
    "    cutoff = time.time() - ONE_WEEK_IN_SECONDS\n",
    "    # 从有序集合取出文章的发布时间\n",
    "    if rd.zscore('time:', article) < cutoff: \n",
    "        return\n",
    "    article_id = article.split(':')[-1]\n",
    "    if rd.sadd('voted:' + article_id, user):\n",
    "        # 往文章对应的投票人中添加人员\n",
    "        # 如果集合中没有改成员，则添加成功返回True，否则添加失败返回False\n",
    "        \n",
    "        # 对应文章分数的有序集合自增相应的分数\n",
    "        rd.zincrby('score:',  VOTE_SCORE_BASIC, article)\n",
    "        # 对应文章的hash票数加1\n",
    "        rd.hincrby(article, 'votes',1)"
   ]
  },
  {
   "cell_type": "code",
   "execution_count": 5,
   "metadata": {},
   "outputs": [],
   "source": [
    "def post_article(rd, user, title, link):\n",
    "    \"\"\"发布文章\n",
    "    \"\"\"\n",
    "    # incr增加“键”的数量值，如果没有则创建一个\n",
    "    article_id = str(rd.incr(\"article:\"))\n",
    "    \n",
    "    # 将作者添加到文章已投票用户集合\n",
    "    voted = \"voted:\" +article_id\n",
    "    rd.sadd(voted, user)\n",
    "    # 设置改集合的过期时间为7天\n",
    "    rd.expire(voted, ONE_WEEK_IN_SECONDS)\n",
    "    \n",
    "    # 添加文章散列表\n",
    "    now = time.time()\n",
    "    article = \"article:\"+article_id\n",
    "    rd.hmset(article, {\n",
    "        'title': title,\n",
    "        'link': link,\n",
    "        'poster': user,\n",
    "        'time': now,\n",
    "        'votes': 1,\n",
    "    })\n",
    "    \n",
    "    # 将文章添加到分数有序集合\n",
    "    rd.zadd(\"score:\", {article: now+VOTE_SCORE_BASIC})\n",
    "    # 将文章添加到时间有序集合\n",
    "    rd.zadd(\"time:\", {article: now})"
   ]
  },
  {
   "cell_type": "code",
   "execution_count": 6,
   "metadata": {},
   "outputs": [],
   "source": [
    "ARTICLES_PER_PAGE = 25\n",
    "def get_articles(rd, page, order=\"score:\"):\n",
    "    # 设置获取文章的开始索引和结束索引\n",
    "    start = (page-1)* ARTICLES_PER_PAGE\n",
    "    end = start + ARTICLES_PER_PAGE -1\n",
    "    \n",
    "    articles=[]\n",
    "    # 分值从大到小获取文章id\n",
    "    ids = rd.zrevrange(order, start, end)\n",
    "    for id in ids:\n",
    "        # 获取文章id对应的内容\n",
    "        article_data = rd.hgetall(id)\n",
    "        article_data['id'] = id\n",
    "        articles.append(article_data)\n",
    "    return articles"
   ]
  },
  {
   "cell_type": "code",
   "execution_count": 7,
   "metadata": {},
   "outputs": [],
   "source": [
    "def add_remove_group(rd, article_id, to_add=[], to_remove=[]):\n",
    "    # 添加和删除组里的文章\n",
    "    article = 'article:' + article_id\n",
    "    for group in to_add:\n",
    "        # 添加到分组有序集合\n",
    "        rd.sadd('group:' + group, article)\n",
    "    for group in to_remove:\n",
    "        # 从有序集合中删除\n",
    "        rd.srem('group:'+group, article)"
   ]
  },
  {
   "cell_type": "code",
   "execution_count": 43,
   "metadata": {},
   "outputs": [],
   "source": [
    "def get_group_article(rd, group, page, order='score:'):\n",
    "    # 从群组获取一整页文章\n",
    "    key = order+group\n",
    "    if not rd.exists(key):\n",
    "        # 检查是否有已缓存的有序集合\n",
    "        # 根据order和group的排序创建新的缓存\n",
    "        rd.zinterstore(key, ['group:'+group, order],\n",
    "                      aggregate='max')\n",
    "        #rd.expire(key, 600)\n",
    "    return get_articles(rd, page, key)"
   ]
  },
  {
   "cell_type": "code",
   "execution_count": 20,
   "metadata": {},
   "outputs": [],
   "source": [
    "post_article(rd,'user3','article3','link3')"
   ]
  },
  {
   "cell_type": "code",
   "execution_count": 21,
   "metadata": {},
   "outputs": [
    {
     "data": {
      "text/plain": [
       "[{b'title': b'article2',\n",
       "  b'link': b'link2',\n",
       "  b'poster': b'user2',\n",
       "  b'time': b'1572266862.83515',\n",
       "  b'votes': b'2',\n",
       "  'id': b'article:2'},\n",
       " {b'title': b'article1',\n",
       "  b'link': b'link1',\n",
       "  b'poster': b'user1',\n",
       "  b'time': b'1572266841.068226',\n",
       "  b'votes': b'2',\n",
       "  'id': b'article:1'},\n",
       " {b'title': b'article3',\n",
       "  b'link': b'link3',\n",
       "  b'poster': b'user3',\n",
       "  b'time': b'1572266900.0226402',\n",
       "  b'votes': b'1',\n",
       "  'id': b'article:3'}]"
      ]
     },
     "execution_count": 21,
     "metadata": {},
     "output_type": "execute_result"
    }
   ],
   "source": [
    "get_articles(rd, page=1)"
   ]
  },
  {
   "cell_type": "code",
   "execution_count": 22,
   "metadata": {},
   "outputs": [],
   "source": [
    "article_vote(rd,'user4','article:3')"
   ]
  },
  {
   "cell_type": "code",
   "execution_count": 23,
   "metadata": {
    "scrolled": true
   },
   "outputs": [
    {
     "data": {
      "text/plain": [
       "[{b'title': b'article3',\n",
       "  b'link': b'link3',\n",
       "  b'poster': b'user3',\n",
       "  b'time': b'1572266900.0226402',\n",
       "  b'votes': b'2',\n",
       "  'id': b'article:3'},\n",
       " {b'title': b'article2',\n",
       "  b'link': b'link2',\n",
       "  b'poster': b'user2',\n",
       "  b'time': b'1572266862.83515',\n",
       "  b'votes': b'2',\n",
       "  'id': b'article:2'},\n",
       " {b'title': b'article1',\n",
       "  b'link': b'link1',\n",
       "  b'poster': b'user1',\n",
       "  b'time': b'1572266841.068226',\n",
       "  b'votes': b'2',\n",
       "  'id': b'article:1'}]"
      ]
     },
     "execution_count": 23,
     "metadata": {},
     "output_type": "execute_result"
    }
   ],
   "source": [
    " get_articles(rd, page=1)"
   ]
  },
  {
   "cell_type": "code",
   "execution_count": 25,
   "metadata": {},
   "outputs": [
    {
     "data": {
      "text/plain": [
       "{b'user3', b'user4'}"
      ]
     },
     "execution_count": 25,
     "metadata": {},
     "output_type": "execute_result"
    }
   ],
   "source": [
    "rd.smembers('voted:3')"
   ]
  },
  {
   "cell_type": "code",
   "execution_count": 57,
   "metadata": {},
   "outputs": [],
   "source": [
    "add_remove_group(rd, '1',to_add=['group1','group2'])"
   ]
  },
  {
   "cell_type": "code",
   "execution_count": 59,
   "metadata": {},
   "outputs": [
    {
     "data": {
      "text/plain": [
       "[{b'title': b'article1',\n",
       "  b'link': b'link1',\n",
       "  b'poster': b'user1',\n",
       "  b'time': b'1572266841.068226',\n",
       "  b'votes': b'2',\n",
       "  'id': b'article:1'}]"
      ]
     },
     "execution_count": 59,
     "metadata": {},
     "output_type": "execute_result"
    }
   ],
   "source": [
    "get_group_article(rd, 'group1',page=1)"
   ]
  }
 ],
 "metadata": {
  "kernelspec": {
   "display_name": "Python 3",
   "language": "python",
   "name": "python3"
  },
  "language_info": {
   "codemirror_mode": {
    "name": "ipython",
    "version": 3
   },
   "file_extension": ".py",
   "mimetype": "text/x-python",
   "name": "python",
   "nbconvert_exporter": "python",
   "pygments_lexer": "ipython3",
   "version": "3.7.3"
  }
 },
 "nbformat": 4,
 "nbformat_minor": 2
}
