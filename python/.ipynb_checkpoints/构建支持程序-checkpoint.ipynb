{
 "cells": [
  {
   "cell_type": "markdown",
   "metadata": {},
   "source": [
    "# 最新日志处理"
   ]
  },
  {
   "cell_type": "code",
   "execution_count": 115,
   "metadata": {},
   "outputs": [],
   "source": [
    "import time\n",
    "from datetime import datetime\n",
    "import redis\n",
    "import bisect"
   ]
  },
  {
   "cell_type": "code",
   "execution_count": 8,
   "metadata": {},
   "outputs": [],
   "source": [
    "def log_recent(conn, name, message, serverity='info',pipe=None):\n",
    "    destination = 'recent:%s:%s' %(name, serverity)\n",
    "    message = time.asctime() + ' ' + message\n",
    "    pipe = pipe or conn.pipeline()\n",
    "    pipe.lpush(destination, message)\n",
    "    pipe.ltrim(destination, 0, 99)\n",
    "    pipe.execute()"
   ]
  },
  {
   "cell_type": "code",
   "execution_count": 15,
   "metadata": {},
   "outputs": [],
   "source": [
    "conn = redis.Redis(decode_responses=True)\n",
    "log_recent(conn, 'hit', '这是一条点击日志')"
   ]
  },
  {
   "cell_type": "code",
   "execution_count": 16,
   "metadata": {},
   "outputs": [
    {
     "data": {
      "text/plain": [
       "['Tue Nov  5 20:20:32 2019 这是一条点击日志']"
      ]
     },
     "execution_count": 16,
     "metadata": {},
     "output_type": "execute_result"
    }
   ],
   "source": [
    "conn.lrange('recent:hit:info',0,-1)"
   ]
  },
  {
   "cell_type": "code",
   "execution_count": 66,
   "metadata": {},
   "outputs": [],
   "source": [
    "def log_common(conn, name, message, serverity='info', timeout=5):\n",
    "    destination = 'common:%s:%s' %(name, serverity)\n",
    "    start_key = destination+':start'\n",
    "    pipe = conn.pipeline()\n",
    "    end = time.time() + timeout\n",
    "    while time.time() < end:\n",
    "        try:\n",
    "            pipe.watch(start_key)\n",
    "            now = datetime.now().timetuple()\n",
    "            hour_start =  datetime(*now[:4]).isoformat()\n",
    "            \n",
    "            existing = pipe.get(start_key)\n",
    "            pipe.multi()\n",
    "            if existing and existing < hour_start:\n",
    "                pipe.rename(destination, destination+':last')\n",
    "                pipe.rename(start_key, start_key+':pstart')\n",
    "                pipe.set(start_key, hour_start)\n",
    "            elif not existing:\n",
    "                pipe.set(start_key, hour_start)\n",
    "            pipe.zincrby(destination, 1,message)\n",
    "            log_recent(pipe, name, message, serverity, pipe)\n",
    "            return\n",
    "        except redis.exceptions.WatchError:\n",
    "            continue"
   ]
  },
  {
   "cell_type": "code",
   "execution_count": 67,
   "metadata": {},
   "outputs": [],
   "source": [
    "log_common(conn, 'click', '这是一个点击时间')"
   ]
  },
  {
   "cell_type": "code",
   "execution_count": 68,
   "metadata": {},
   "outputs": [
    {
     "data": {
      "text/plain": [
       "[('这是一个点击时间', 3.0)]"
      ]
     },
     "execution_count": 68,
     "metadata": {},
     "output_type": "execute_result"
    }
   ],
   "source": [
    "conn.zrange('common:click:info',0,-1,withscores=True)"
   ]
  },
  {
   "cell_type": "code",
   "execution_count": 69,
   "metadata": {},
   "outputs": [
    {
     "data": {
      "text/plain": [
       "['Tue Nov  5 20:50:57 2019 这是一个点击时间',\n",
       " 'Tue Nov  5 20:47:02 2019 这是一个点击时间',\n",
       " 'Tue Nov  5 20:45:34 2019 这是一个点击时间',\n",
       " 'Tue Nov  5 20:45:09 2019 这是一个点击时间']"
      ]
     },
     "execution_count": 69,
     "metadata": {},
     "output_type": "execute_result"
    }
   ],
   "source": [
    "conn.lrange('recent:click:info',0,-1)"
   ]
  },
  {
   "cell_type": "code",
   "execution_count": 70,
   "metadata": {},
   "outputs": [],
   "source": [
    "now = datetime.now().timetuple()\n",
    "hour_start =  datetime(*now[:4]).isoformat()"
   ]
  },
  {
   "cell_type": "code",
   "execution_count": 71,
   "metadata": {},
   "outputs": [
    {
     "data": {
      "text/plain": [
       "'2019-11-05T20:00:00'"
      ]
     },
     "execution_count": 71,
     "metadata": {},
     "output_type": "execute_result"
    }
   ],
   "source": [
    "hour_start"
   ]
  },
  {
   "cell_type": "code",
   "execution_count": 72,
   "metadata": {},
   "outputs": [
    {
     "data": {
      "text/plain": [
       "'2019-11-05T20:00:00'"
      ]
     },
     "execution_count": 72,
     "metadata": {},
     "output_type": "execute_result"
    }
   ],
   "source": [
    "conn.get('common:click:info:start')"
   ]
  },
  {
   "cell_type": "markdown",
   "metadata": {},
   "source": [
    "# 计数日志"
   ]
  },
  {
   "cell_type": "code",
   "execution_count": 76,
   "metadata": {},
   "outputs": [],
   "source": [
    "PRECISION = [1, 5, 60, 300, 3600, 18000, 86400]\n",
    "\n",
    "def update_counter(conn, name, count=1, now=None):\n",
    "    now = now or time.time()\n",
    "    pipe = conn.pipeline()\n",
    "    for prec in PRECISION:\n",
    "        pnow = int(now/prec) * prec\n",
    "        hash = '%s:%s' %(prec, name)\n",
    "        pipe.zadd('know:', {hash:0})\n",
    "        pipe.hincrby('count:'+hash, pnow, count)\n",
    "    pipe.execute()"
   ]
  },
  {
   "cell_type": "code",
   "execution_count": 100,
   "metadata": {},
   "outputs": [],
   "source": [
    "update_counter(conn, 'hit')"
   ]
  },
  {
   "cell_type": "code",
   "execution_count": 101,
   "metadata": {},
   "outputs": [
    {
     "data": {
      "text/plain": [
       "[('18000:hit', 0.0),\n",
       " ('1:hit', 0.0),\n",
       " ('300:hit', 0.0),\n",
       " ('3600:hit', 0.0),\n",
       " ('5:hit', 0.0),\n",
       " ('60:hit', 0.0),\n",
       " ('86400:hit', 0.0)]"
      ]
     },
     "execution_count": 101,
     "metadata": {},
     "output_type": "execute_result"
    }
   ],
   "source": [
    "conn.zrange('know:',0,-1,withscores=True)"
   ]
  },
  {
   "cell_type": "code",
   "execution_count": 128,
   "metadata": {},
   "outputs": [
    {
     "data": {
      "text/plain": [
       "{'1572959063': '1',\n",
       " '1572959175': '1',\n",
       " '1572959199': '1',\n",
       " '1572959221': '1',\n",
       " '1572959227': '1',\n",
       " '1572959232': '1'}"
      ]
     },
     "execution_count": 128,
     "metadata": {},
     "output_type": "execute_result"
    }
   ],
   "source": [
    "conn.hgetall('count:1:hit')"
   ]
  },
  {
   "cell_type": "code",
   "execution_count": 103,
   "metadata": {},
   "outputs": [
    {
     "data": {
      "text/plain": [
       "{'1572959040': '1', '1572959160': '2', '1572959220': '3'}"
      ]
     },
     "execution_count": 103,
     "metadata": {},
     "output_type": "execute_result"
    }
   ],
   "source": [
    "conn.hgetall('count:60:hit')"
   ]
  },
  {
   "cell_type": "code",
   "execution_count": 113,
   "metadata": {},
   "outputs": [],
   "source": [
    "def get_counter(conn, name, precision):\n",
    "    hash = '%s:%s' %(precision, name)\n",
    "    data = conn.hgetall('count:' + hash)\n",
    "    to_return = []\n",
    "    for key, value in data.items():\n",
    "        to_return.append((int(key), int(value)))\n",
    "    to_return.sort()\n",
    "    return to_return"
   ]
  },
  {
   "cell_type": "code",
   "execution_count": 114,
   "metadata": {},
   "outputs": [
    {
     "data": {
      "text/plain": [
       "[(1572959060, 1),\n",
       " (1572959175, 1),\n",
       " (1572959195, 1),\n",
       " (1572959220, 1),\n",
       " (1572959225, 1),\n",
       " (1572959230, 1)]"
      ]
     },
     "execution_count": 114,
     "metadata": {},
     "output_type": "execute_result"
    }
   ],
   "source": [
    "get_counter(conn, 'hit','5')"
   ]
  },
  {
   "cell_type": "code",
   "execution_count": 125,
   "metadata": {},
   "outputs": [],
   "source": [
    "QUIT = False\n",
    "SAMPLE_COUNT = 100\n",
    "def clean_counters(conn):\n",
    "    pipe = conn.pipeline(True)\n",
    "    passes = 0\n",
    "    while not QUIT:\n",
    "        start = time.time()\n",
    "        index = 0\n",
    "        while index < conn.zcard('know:'):\n",
    "            hash = conn.zrange('know:', index, index)\n",
    "            index += 1\n",
    "            if not hash:\n",
    "                break\n",
    "            hash = hash[0]\n",
    "            prec = int(hash.partition(':')[0])\n",
    "            bprec = int(prec // 60) or 1\n",
    "            if passes % bprec:\n",
    "                continue\n",
    "            hkey = 'count:'+hash\n",
    "            cutoff = time.time() - SAMPLE_COUNT * prec\n",
    "            samples = list(map(int, conn.hkeys(hkey)))\n",
    "            samples.sort()\n",
    "            remove = bisect.bisect_right(samples, cutoff)\n",
    "            if remove:\n",
    "                conn.hdel(hkey, * samples[:remove])\n",
    "                if remove == len(remove):\n",
    "                    try:\n",
    "                        pipe.watch(hkey)\n",
    "                        if not pipe.hlen(hkey):\n",
    "                            pipe.multi()\n",
    "                            pipe.zrem('know:',hash)\n",
    "                            pipe.execute()\n",
    "                            index -=1\n",
    "                        else:\n",
    "                            pipe.unwatch()\n",
    "                    except redis.exceptions.WatchError:\n",
    "                        pass\n",
    "            passes += 1\n",
    "            duration = min(int(time.time()-start)+1, 60)\n",
    "            time.sleep(max(60-duration,1))"
   ]
  },
  {
   "cell_type": "code",
   "execution_count": 129,
   "metadata": {},
   "outputs": [],
   "source": [
    "import _thread"
   ]
  },
  {
   "cell_type": "code",
   "execution_count": 130,
   "metadata": {},
   "outputs": [
    {
     "data": {
      "text/plain": [
       "123145409945600"
      ]
     },
     "execution_count": 130,
     "metadata": {},
     "output_type": "execute_result"
    }
   ],
   "source": [
    "_thread.start_new_thread(clean_counters, (conn,))"
   ]
  },
  {
   "cell_type": "code",
   "execution_count": 144,
   "metadata": {},
   "outputs": [
    {
     "data": {
      "text/plain": [
       "{'1572959060': '1',\n",
       " '1572959175': '1',\n",
       " '1572959195': '1',\n",
       " '1572959220': '1',\n",
       " '1572959225': '1',\n",
       " '1572959230': '1'}"
      ]
     },
     "execution_count": 144,
     "metadata": {},
     "output_type": "execute_result"
    }
   ],
   "source": [
    "conn.hgetall('count:5:hit')"
   ]
  },
  {
   "cell_type": "code",
   "execution_count": 145,
   "metadata": {},
   "outputs": [
    {
     "data": {
      "text/plain": [
       "[('18000:hit', 0.0),\n",
       " ('1:hit', 0.0),\n",
       " ('300:hit', 0.0),\n",
       " ('3600:hit', 0.0),\n",
       " ('5:hit', 0.0),\n",
       " ('60:hit', 0.0),\n",
       " ('86400:hit', 0.0)]"
      ]
     },
     "execution_count": 145,
     "metadata": {},
     "output_type": "execute_result"
    }
   ],
   "source": [
    "conn.zrange('know:',0,-1,withscores=True)"
   ]
  },
  {
   "cell_type": "code",
   "execution_count": null,
   "metadata": {},
   "outputs": [],
   "source": []
  }
 ],
 "metadata": {
  "kernelspec": {
   "display_name": "Python 3",
   "language": "python",
   "name": "python3"
  },
  "language_info": {
   "codemirror_mode": {
    "name": "ipython",
    "version": 3
   },
   "file_extension": ".py",
   "mimetype": "text/x-python",
   "name": "python",
   "nbconvert_exporter": "python",
   "pygments_lexer": "ipython3",
   "version": "3.7.3"
  }
 },
 "nbformat": 4,
 "nbformat_minor": 2
}
