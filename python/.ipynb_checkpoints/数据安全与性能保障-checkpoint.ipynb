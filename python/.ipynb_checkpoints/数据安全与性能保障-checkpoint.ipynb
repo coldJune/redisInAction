{
 "cells": [
  {
   "cell_type": "markdown",
   "metadata": {},
   "source": [
    "# 持久化"
   ]
  },
  {
   "cell_type": "markdown",
   "metadata": {},
   "source": [
    "## 快照"
   ]
  },
  {
   "cell_type": "code",
   "execution_count": 7,
   "metadata": {},
   "outputs": [],
   "source": [
    "import redis\n",
    "import time\n",
    "import os"
   ]
  },
  {
   "cell_type": "code",
   "execution_count": 3,
   "metadata": {},
   "outputs": [],
   "source": [
    "conn = redis.Redis()"
   ]
  },
  {
   "cell_type": "code",
   "execution_count": 8,
   "metadata": {},
   "outputs": [],
   "source": [
    "def process_logs(conn, path, callback):\n",
    "    current_file, offset = conn.mget('progress:file', 'progress:position')\n",
    "    pipe = conn.pipeline()\n",
    "    def update_progress():\n",
    "        pipe.mset({\n",
    "            'progress:file': fname,\n",
    "            'progress:position': offset\n",
    "        })\n",
    "        pipe.excute()\n",
    "    for fname in sorted(os.listdir(path)):\n",
    "        if fname < current_file:\n",
    "            continue\n",
    "            \n",
    "            with open(os.path.join(path, fname), mode='rb') as inp:\n",
    "                if fname == current_file:\n",
    "                    inp.seek(int(offset, 10))\n",
    "                else:\n",
    "                    offset = 0\n",
    "                current_file = None\n",
    "                \n",
    "                for lno, line in enumerate(inp):\n",
    "                    callback(pipe, line)\n",
    "                    offset += int(offset)+len(line)\n",
    "                    if not (lno+1)% 1000:\n",
    "                        update_progress()\n",
    "                update_progress()"
   ]
  },
  {
   "cell_type": "code",
   "execution_count": 9,
   "metadata": {},
   "outputs": [
    {
     "data": {
      "text/plain": [
       "True"
      ]
     },
     "execution_count": 9,
     "metadata": {},
     "output_type": "execute_result"
    }
   ],
   "source": [
    "conn.save()"
   ]
  },
  {
   "cell_type": "markdown",
   "metadata": {},
   "source": [
    "## AOF"
   ]
  },
  {
   "cell_type": "markdown",
   "metadata": {},
   "source": [
    "|选项|同步频率|\n",
    "|--|--|\n",
    "|always|每个Redis写命令都要同步写入硬盘，严重降低Redis速度|\n",
    "|everysec|每秒执行一次同步，显式地将多个写命令同步到硬盘|\n",
    "|no|让操作系统来决定应该何时进行同步|"
   ]
  },
  {
   "cell_type": "markdown",
   "metadata": {},
   "source": [
    "# Redis事务"
   ]
  },
  {
   "cell_type": "code",
   "execution_count": 40,
   "metadata": {},
   "outputs": [],
   "source": [
    "def list_item(conn, itemid, sellerid, price):\n",
    "    inventory = 'inventory:%s' % sellerid\n",
    "    item = '%s.%s' %(itemid, sellerid)\n",
    "    end = time.time() + 5\n",
    "    pipe = conn.pipeline()\n",
    "    while time.time() < end:\n",
    "        try:\n",
    "            pipe.watch(inventory)\n",
    "            if not pipe.sismember(inventory, itemid):\n",
    "                pipe.unwatch()\n",
    "                return None\n",
    "            pipe.multi()\n",
    "            pipe.zadd('market:', {item:price})\n",
    "            pipe.srem(inventory, itemid)\n",
    "            pipe.execute()\n",
    "            return True\n",
    "        except redis.exceptions.WatchError:\n",
    "            pass\n",
    "    return False"
   ]
  },
  {
   "cell_type": "code",
   "execution_count": 57,
   "metadata": {},
   "outputs": [],
   "source": [
    "def purchase_item(conn, buyerid, itemid, sellerid, lprice):\n",
    "    buyer = 'users:%s' %buyerid\n",
    "    seller = 'users:%s' %sellerid\n",
    "    item = '%s.%s' %(itemid, sellerid)\n",
    "    inventory = \"inventory:%s\" %buyerid\n",
    "    end = time.time() + 10\n",
    "    pipe = conn.pipeline()\n",
    "    \n",
    "    while time.time() < end:\n",
    "        try:\n",
    "            pipe.watch('market:', buyer)\n",
    "            \n",
    "            price = pipe.zscore('market:', item)\n",
    "            funds = float(pipe.hget(buyer, 'funds'))\n",
    "            if price != lprice or price > funds:\n",
    "                pipe.unwatch()\n",
    "                return None\n",
    "            \n",
    "            pipe.multi()\n",
    "            pipe.hincrbyfloat(seller, 'funds', float(price))\n",
    "            pipe.hincrbyfloat(buyer, 'funds', float(-price))\n",
    "            pipe.sadd(inventory, itemid)\n",
    "            pipe.zrem('market:',item)\n",
    "            pipe.execute()\n",
    "            return True\n",
    "        except redis.exceptions.WatchError:\n",
    "            pass\n",
    "    return False"
   ]
  },
  {
   "cell_type": "code",
   "execution_count": 64,
   "metadata": {},
   "outputs": [
    {
     "data": {
      "text/plain": [
       "0"
      ]
     },
     "execution_count": 64,
     "metadata": {},
     "output_type": "execute_result"
    }
   ],
   "source": [
    "conn.hmset('users:1', {'name':'jim','funds':100})\n",
    "conn.hmset('users:2', {'name':'tom','funds':43})\n",
    "conn.sadd('inventory:1', 'itemB', 'itemC')\n",
    "conn.sadd('inventory:2', 'itemD','itemE','itemF')"
   ]
  },
  {
   "cell_type": "code",
   "execution_count": 65,
   "metadata": {},
   "outputs": [
    {
     "data": {
      "text/plain": [
       "{b'name': b'jim', b'funds': b'100'}"
      ]
     },
     "execution_count": 65,
     "metadata": {},
     "output_type": "execute_result"
    }
   ],
   "source": [
    "conn.hgetall('users:1')"
   ]
  },
  {
   "cell_type": "code",
   "execution_count": 66,
   "metadata": {},
   "outputs": [
    {
     "data": {
      "text/plain": [
       "{b'name': b'tom', b'funds': b'43'}"
      ]
     },
     "execution_count": 66,
     "metadata": {},
     "output_type": "execute_result"
    }
   ],
   "source": [
    "conn.hgetall('users:2')"
   ]
  },
  {
   "cell_type": "code",
   "execution_count": 67,
   "metadata": {},
   "outputs": [
    {
     "data": {
      "text/plain": [
       "{b'itemB', b'itemC'}"
      ]
     },
     "execution_count": 67,
     "metadata": {},
     "output_type": "execute_result"
    }
   ],
   "source": [
    "conn.smembers('inventory:1')"
   ]
  },
  {
   "cell_type": "code",
   "execution_count": 68,
   "metadata": {},
   "outputs": [
    {
     "data": {
      "text/plain": [
       "{b'itemA', b'itemD', b'itemE', b'itemF'}"
      ]
     },
     "execution_count": 68,
     "metadata": {},
     "output_type": "execute_result"
    }
   ],
   "source": [
    "conn.smembers('inventory:2')"
   ]
  },
  {
   "cell_type": "code",
   "execution_count": 69,
   "metadata": {},
   "outputs": [
    {
     "data": {
      "text/plain": [
       "True"
      ]
     },
     "execution_count": 69,
     "metadata": {},
     "output_type": "execute_result"
    }
   ],
   "source": [
    "list_item(conn, 'itemB', 1, 40)"
   ]
  },
  {
   "cell_type": "code",
   "execution_count": 70,
   "metadata": {},
   "outputs": [
    {
     "data": {
      "text/plain": [
       "[(b'itemB.1', 40.0)]"
      ]
     },
     "execution_count": 70,
     "metadata": {},
     "output_type": "execute_result"
    }
   ],
   "source": [
    "conn.zrange('market:',0,-1,withscores=True)"
   ]
  },
  {
   "cell_type": "code",
   "execution_count": 77,
   "metadata": {},
   "outputs": [
    {
     "data": {
      "text/plain": [
       "True"
      ]
     },
     "execution_count": 77,
     "metadata": {},
     "output_type": "execute_result"
    }
   ],
   "source": [
    "purchase_item(conn, 2, 'itemB',1, 40.0)"
   ]
  },
  {
   "cell_type": "code",
   "execution_count": 78,
   "metadata": {},
   "outputs": [
    {
     "data": {
      "text/plain": [
       "[]"
      ]
     },
     "execution_count": 78,
     "metadata": {},
     "output_type": "execute_result"
    }
   ],
   "source": [
    "conn.zrange('market:',0,-1,withscores=True)"
   ]
  },
  {
   "cell_type": "code",
   "execution_count": 79,
   "metadata": {},
   "outputs": [
    {
     "data": {
      "text/plain": [
       "{b'itemA', b'itemB', b'itemD', b'itemE', b'itemF'}"
      ]
     },
     "execution_count": 79,
     "metadata": {},
     "output_type": "execute_result"
    }
   ],
   "source": [
    "conn.smembers('inventory:2')"
   ]
  },
  {
   "cell_type": "code",
   "execution_count": 80,
   "metadata": {},
   "outputs": [
    {
     "data": {
      "text/plain": [
       "{b'itemC'}"
      ]
     },
     "execution_count": 80,
     "metadata": {},
     "output_type": "execute_result"
    }
   ],
   "source": [
    "conn.smembers('inventory:1')"
   ]
  },
  {
   "cell_type": "code",
   "execution_count": 81,
   "metadata": {},
   "outputs": [
    {
     "data": {
      "text/plain": [
       "{b'name': b'jim', b'funds': b'140'}"
      ]
     },
     "execution_count": 81,
     "metadata": {},
     "output_type": "execute_result"
    }
   ],
   "source": [
    "conn.hgetall('users:1')"
   ]
  },
  {
   "cell_type": "code",
   "execution_count": 82,
   "metadata": {},
   "outputs": [
    {
     "data": {
      "text/plain": [
       "{b'name': b'tom', b'funds': b'3'}"
      ]
     },
     "execution_count": 82,
     "metadata": {},
     "output_type": "execute_result"
    }
   ],
   "source": [
    "conn.hgetall('users:2')"
   ]
  },
  {
   "cell_type": "markdown",
   "metadata": {},
   "source": [
    "# 性能问题"
   ]
  },
  {
   "cell_type": "markdown",
   "metadata": {},
   "source": [
    "|性能或者错误|可能原因|解决方法|\n",
    "|--|--|--|\n",
    "|单个客户端的性能达到redis-benchmark的50%~60%|不使用流水线的预期性能||\n",
    "|单个客户端的性能达到redis-benchmark的25%~30%|对于每个命令或者每组命令都创建了新的连接|重用已有的Redis连接|\n",
    "|客户端返回错误\"Cannot assign requested address\"(无法分配指定的地址)|对于每个命令或者每组命令都创建了新的连接|重用已有的Redis连接|"
   ]
  },
  {
   "cell_type": "code",
   "execution_count": null,
   "metadata": {},
   "outputs": [],
   "source": []
  }
 ],
 "metadata": {
  "kernelspec": {
   "display_name": "Python 3",
   "language": "python",
   "name": "python3"
  },
  "language_info": {
   "codemirror_mode": {
    "name": "ipython",
    "version": 3
   },
   "file_extension": ".py",
   "mimetype": "text/x-python",
   "name": "python",
   "nbconvert_exporter": "python",
   "pygments_lexer": "ipython3",
   "version": "3.7.3"
  }
 },
 "nbformat": 4,
 "nbformat_minor": 2
}
