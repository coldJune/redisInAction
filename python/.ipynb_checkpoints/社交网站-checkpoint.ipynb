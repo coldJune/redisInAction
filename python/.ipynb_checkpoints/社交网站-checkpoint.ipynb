{
 "cells": [
  {
   "cell_type": "code",
   "execution_count": 2,
   "metadata": {},
   "outputs": [],
   "source": [
    "import redis\n",
    "import os\n",
    "import time\n",
    "import json\n",
    "import uuid\n",
    "import math\n",
    "import threading\n",
    "import random"
   ]
  },
  {
   "cell_type": "code",
   "execution_count": 3,
   "metadata": {},
   "outputs": [],
   "source": [
    "def acquire_lock_with_timeout(conn, lockname, acquire_timeout=10, lock_timeout=10):\n",
    "    identifier = str(uuid.uuid4())\n",
    "    lockname = 'lock:'+lockname\n",
    "    lock_timeout = int(math.ceil(lock_timeout))\n",
    "    \n",
    "    end = time.time() + acquire_timeout\n",
    "    while time.time() < end:\n",
    "        if conn.setnx(lockname,  identifier):\n",
    "            conn.expire(lockname, lock_timeout)\n",
    "            return identifier\n",
    "        elif not conn.ttl(lockname):\n",
    "            conn.expire(lockname, lock_timeout)\n",
    "        time.sleep(.001)\n",
    "    return False\n",
    "\n",
    "def release_lock(conn, lockname, identifier):\n",
    "    pipe = conn.pipeline(True)\n",
    "    lockname = 'lock:' + lockname\n",
    "    \n",
    "    while True:\n",
    "        try:\n",
    "            pipe.watch(lockname)\n",
    "            if pipe.get(lockname) == identifier:\n",
    "                pipe.multi()\n",
    "                pipe.delete(lockname)\n",
    "                pipe.execute()\n",
    "                return True\n",
    "            pipe.unwatch()\n",
    "            break\n",
    "        except redis.exceptions.RedisError:\n",
    "            pass\n",
    "        return False"
   ]
  },
  {
   "cell_type": "code",
   "execution_count": 4,
   "metadata": {},
   "outputs": [],
   "source": [
    "def create_user(conn, login, name):\n",
    "    llogin = login.lower()\n",
    "    lock = acquire_lock_with_timeout(conn,  'user:'+llogin, 1)\n",
    "    if not lock:\n",
    "        return None\n",
    "    if conn.hget('users:', llogin):\n",
    "        release_lock(conn, 'user:'+llogin, lock)\n",
    "        return None\n",
    "    id = conn.incr('user:id:', 1)\n",
    "    pipe = conn.pipeline(True)\n",
    "    pipe.hset('users:', llogin, id)\n",
    "    pipe.hmset('user:%s' %id, {\n",
    "        'login': login,\n",
    "        'id': id,\n",
    "        'name': name,\n",
    "        'followers': 0,\n",
    "        'following': 0,\n",
    "        'posts': 0,\n",
    "        'signup': time.time()\n",
    "    })\n",
    "    pipe.execute()\n",
    "    release_lock(conn, 'user:'+llogin, lock)\n",
    "    return id"
   ]
  },
  {
   "cell_type": "code",
   "execution_count": 5,
   "metadata": {},
   "outputs": [],
   "source": [
    "conn = redis.Redis(decode_responses=True, db=1)"
   ]
  },
  {
   "cell_type": "code",
   "execution_count": 6,
   "metadata": {},
   "outputs": [
    {
     "data": {
      "text/plain": [
       "1"
      ]
     },
     "execution_count": 6,
     "metadata": {},
     "output_type": "execute_result"
    }
   ],
   "source": [
    "create_user(conn, 'user1', 'name1')"
   ]
  },
  {
   "cell_type": "code",
   "execution_count": 7,
   "metadata": {},
   "outputs": [
    {
     "name": "stdout",
     "output_type": "stream",
     "text": [
      "1\n",
      "{'user1': '1'}\n",
      "{'login': 'user1', 'id': '1', 'name': 'name1', 'followers': '0', 'following': '0', 'posts': '0', 'signup': '1573989385.480899'}\n"
     ]
    }
   ],
   "source": [
    "print(conn.get('user:id:'))\n",
    "print(conn.hgetall('users:'))\n",
    "print(conn.hgetall('user:1'))"
   ]
  },
  {
   "cell_type": "code",
   "execution_count": 8,
   "metadata": {},
   "outputs": [],
   "source": [
    "def create_status(conn, uid, message, **data):\n",
    "    pipe = conn.pipeline(True)\n",
    "    pipe.hget('user:%s'%uid, 'login')\n",
    "    pipe.incr('status:id:', 1)\n",
    "    login, status_id = pipe.execute()\n",
    "    \n",
    "    if not login:\n",
    "        return None\n",
    "    \n",
    "    data.update({\n",
    "        'message': message,\n",
    "        'posted': time.time(),\n",
    "        'id': status_id,\n",
    "        'uid': uid,\n",
    "        'login': login\n",
    "    })\n",
    "    pipe.hmset('status:%s'%status_id, data)\n",
    "    pipe.hincrby('user:%s' % uid, 'posts')\n",
    "    pipe.execute()\n",
    "    return status_id"
   ]
  },
  {
   "cell_type": "code",
   "execution_count": 9,
   "metadata": {},
   "outputs": [],
   "source": [
    "create_status(conn, '2', 'this is user2s message')"
   ]
  },
  {
   "cell_type": "code",
   "execution_count": 10,
   "metadata": {},
   "outputs": [
    {
     "data": {
      "text/plain": [
       "2"
      ]
     },
     "execution_count": 10,
     "metadata": {},
     "output_type": "execute_result"
    }
   ],
   "source": [
    "create_status(conn, '1', 'this is user2s message')"
   ]
  },
  {
   "cell_type": "code",
   "execution_count": 11,
   "metadata": {},
   "outputs": [
    {
     "name": "stdout",
     "output_type": "stream",
     "text": [
      "2\n",
      "{}\n",
      "{'login': 'user1', 'id': '1', 'name': 'name1', 'followers': '0', 'following': '0', 'posts': '1', 'signup': '1573989385.480899'}\n"
     ]
    }
   ],
   "source": [
    "print(conn.get('status:id:'))\n",
    "print(conn.hgetall('status:4'))\n",
    "print(conn.hgetall('user:1'))"
   ]
  },
  {
   "cell_type": "code",
   "execution_count": 61,
   "metadata": {},
   "outputs": [],
   "source": [
    "def get_status_messages(conn, uid, timeline='home:', page=1, count=30):\n",
    "    statuses = conn.zrevrange('%s%s' %(timeline,uid), (page-1)*count, page*count-1)\n",
    "    pipe = conn.pipeline(True)\n",
    "    for status_id in statuses:\n",
    "        pipe.hgetall('status:%s' % status_id)\n",
    "    return [f for f in pipe.execute() if f]"
   ]
  },
  {
   "cell_type": "code",
   "execution_count": 37,
   "metadata": {},
   "outputs": [],
   "source": [
    "HOME_TIMELINE_SIZE = 1000\n",
    "\n",
    "def follow_user(conn, uid, other_uid):\n",
    "    fkey1 = 'following:%s' %uid\n",
    "    fkey2 = 'followers:%s' %other_uid\n",
    "    \n",
    "    if conn.zscore(fkey1, other_uid):\n",
    "        return None\n",
    "    now = time.time()\n",
    "    pipe = conn.pipeline(True)\n",
    "    pipe.zadd(fkey1, {other_uid: now})\n",
    "    pipe.zadd(fkey2, {uid: now})\n",
    "    pipe.zrevrange('profile:%s' %other_uid, 0, HOME_TIMELINE_SIZE-1, withscores=True)\n",
    "    following, followers, status_and_score = pipe.execute()[-3:]\n",
    "    pipe.hincrby('user:%s'%uid, 'following', int(following))\n",
    "    pipe.hincrby('user:%s'%other_uid, 'followers', int(followers))\n",
    "    if status_and_score:\n",
    "        pipe.zadd('home:%s'%uid, **dict(status_and_score))\n",
    "    pipe.zremrangebyrank('home:%s' %uid, 0, -HOME_TIMELINE_SIZE-1)\n",
    "    pipe.execute()\n",
    "    return True"
   ]
  },
  {
   "cell_type": "code",
   "execution_count": 64,
   "metadata": {},
   "outputs": [],
   "source": [
    "def unfollow_user(conn, uid, other_uid):\n",
    "    fkey1 = 'following:%s' %uid\n",
    "    fkey2 = 'followers:%s' %other_uid\n",
    "    \n",
    "    if not conn.zscore(fkey1, other_uid):\n",
    "        return None\n",
    "    \n",
    "    pipe = conn.pipeline(True)\n",
    "    pipe.zrem(fkey1, other_uid)\n",
    "    pipe.zrem(fkey2, uid)\n",
    "    \n",
    "    pipe.zrevrange('profile:%s' %other_uid, 0, HOME_TIMELINE_SIZE-1)\n",
    "    following, followers, statuses = pipe.execute()[-3:]\n",
    "    \n",
    "    pipe.hincrby('user:%s' %uid , 'following', int(-following))\n",
    "    pipe.hincrby('user:%s' %other_uid, 'followers', int(-followers))\n",
    "    if statuses:\n",
    "        pipe.zrem('home:%s' %uid, *statuses)\n",
    "    pipe.execute()\n",
    "    return True"
   ]
  },
  {
   "cell_type": "code",
   "execution_count": 40,
   "metadata": {},
   "outputs": [],
   "source": [
    "def post_status(conn, uid, message, **data):\n",
    "    id = create_status(conn, uid, message, **data)\n",
    "    if not id:\n",
    "        return None\n",
    "    posted = conn.hget('status:%s' %id, 'posted')\n",
    "    if not posted:\n",
    "        return None\n",
    "    post = {str(id): float(posted)}\n",
    "    conn.zadd('profile:%s' %uid, post)\n",
    "    syndicate_status(conn, uid, post)\n",
    "    return id"
   ]
  },
  {
   "cell_type": "code",
   "execution_count": 51,
   "metadata": {},
   "outputs": [],
   "source": [
    "POSTS_PER_PASS = 1000\n",
    "def execute_later(conn, queue, name, args):\n",
    "    assert conn is args[0]\n",
    "    t = threading.Thread(target=globals()[name], args=tuple(args))\n",
    "    t.setDaemon(1)\n",
    "    t.start()\n",
    "    \n",
    "def syndicate_status(conn, uid, post, start=0):\n",
    "    followers = conn.zrangebyscore('followers:%s' %uid, start, 'inf',\n",
    "                                  start=0, num=POSTS_PER_PASS, withscores=True)\n",
    "    pipe = conn.pipeline(False)\n",
    "    for follower, start in followers:\n",
    "        pipe.zadd('home:%s' %follower, post)\n",
    "        pipe.zremrangebyrank('home:%s' %follower, 0, -HOME_TIMELINE_SIZE-1)\n",
    "    pipe.execute()\n",
    "    \n",
    "    if len(followers) >= POSTS_PER_PASS:\n",
    "        execute_later(conn, 'default', 'syndicate_status', [conn, uid, post, start])"
   ]
  },
  {
   "cell_type": "code",
   "execution_count": 70,
   "metadata": {},
   "outputs": [],
   "source": [
    "def delete_status(conn, uid, status_id):\n",
    "    key = 'status:%d' %status_id\n",
    "    lock = acquire_lock_with_timeout(conn, key, 1)\n",
    "    if not lock:\n",
    "        return None\n",
    "    if conn.hget(key, 'uid') != str(uid):\n",
    "        release_lock(conn, key, lock)\n",
    "        return None\n",
    "    pipe = conn.pipeline(True)\n",
    "    pipe.delete(key)\n",
    "    pipe.zrem('profile:%s' %uid, status_id)\n",
    "    pipe.zrem('home:%s' %uid, status_id)\n",
    "    pipe.hincrby('user:%s' %uid, 'posts', -1)\n",
    "    pipe.execute()\n",
    "    \n",
    "    release_lock(conn, key, lock)\n",
    "    return True"
   ]
  },
  {
   "cell_type": "code",
   "execution_count": 73,
   "metadata": {},
   "outputs": [],
   "source": [
    "for i in range(5):\n",
    "    create_user(conn, 'user'+str(i+1), 'name'+str(i+1))"
   ]
  },
  {
   "cell_type": "code",
   "execution_count": 74,
   "metadata": {},
   "outputs": [
    {
     "data": {
      "text/plain": [
       "True"
      ]
     },
     "execution_count": 74,
     "metadata": {},
     "output_type": "execute_result"
    }
   ],
   "source": [
    "follow_user(conn, '3','4')"
   ]
  },
  {
   "cell_type": "code",
   "execution_count": 75,
   "metadata": {},
   "outputs": [
    {
     "name": "stdout",
     "output_type": "stream",
     "text": [
      "[('4', 1573991101.315316)]\n",
      "[('3', 1573991101.315316)]\n"
     ]
    }
   ],
   "source": [
    "print(conn.zrange('following:3', 0, -1, withscores=True))\n",
    "print(conn.zrange('followers:4', 0, -1, withscores=True))"
   ]
  },
  {
   "cell_type": "code",
   "execution_count": 76,
   "metadata": {},
   "outputs": [
    {
     "name": "stdout",
     "output_type": "stream",
     "text": [
      "{'login': 'user4', 'id': '4', 'name': 'name4', 'followers': '1', 'following': '0', 'posts': '0', 'signup': '1573991099.2824152'}\n"
     ]
    }
   ],
   "source": [
    "print(conn.hgetall('user:4'))"
   ]
  },
  {
   "cell_type": "code",
   "execution_count": 77,
   "metadata": {},
   "outputs": [
    {
     "data": {
      "text/plain": [
       "1"
      ]
     },
     "execution_count": 77,
     "metadata": {},
     "output_type": "execute_result"
    }
   ],
   "source": [
    "post_status(conn, '4','this is user4 message')"
   ]
  },
  {
   "cell_type": "code",
   "execution_count": 78,
   "metadata": {},
   "outputs": [
    {
     "data": {
      "text/plain": [
       "[{'message': 'this is user4 message',\n",
       "  'posted': '1573991126.5764868',\n",
       "  'id': '1',\n",
       "  'uid': '4',\n",
       "  'login': 'user4'}]"
      ]
     },
     "execution_count": 78,
     "metadata": {},
     "output_type": "execute_result"
    }
   ],
   "source": [
    "get_status_messages(conn, '3')"
   ]
  },
  {
   "cell_type": "code",
   "execution_count": 79,
   "metadata": {},
   "outputs": [
    {
     "data": {
      "text/plain": [
       "{'message': 'this is user4 message',\n",
       " 'posted': '1573991126.5764868',\n",
       " 'id': '1',\n",
       " 'uid': '4',\n",
       " 'login': 'user4'}"
      ]
     },
     "execution_count": 79,
     "metadata": {},
     "output_type": "execute_result"
    }
   ],
   "source": [
    "conn.hgetall('status:1')"
   ]
  },
  {
   "cell_type": "code",
   "execution_count": 80,
   "metadata": {},
   "outputs": [
    {
     "data": {
      "text/plain": [
       "True"
      ]
     },
     "execution_count": 80,
     "metadata": {},
     "output_type": "execute_result"
    }
   ],
   "source": [
    "unfollow_user(conn, '3', '4')"
   ]
  },
  {
   "cell_type": "code",
   "execution_count": 81,
   "metadata": {},
   "outputs": [
    {
     "data": {
      "text/plain": [
       "[]"
      ]
     },
     "execution_count": 81,
     "metadata": {},
     "output_type": "execute_result"
    }
   ],
   "source": [
    "get_status_messages(conn, '3')"
   ]
  },
  {
   "cell_type": "code",
   "execution_count": 84,
   "metadata": {},
   "outputs": [
    {
     "data": {
      "text/plain": [
       "True"
      ]
     },
     "execution_count": 84,
     "metadata": {},
     "output_type": "execute_result"
    }
   ],
   "source": [
    "delete_status(conn, '4',1)"
   ]
  },
  {
   "cell_type": "code",
   "execution_count": 85,
   "metadata": {},
   "outputs": [
    {
     "data": {
      "text/plain": [
       "{}"
      ]
     },
     "execution_count": 85,
     "metadata": {},
     "output_type": "execute_result"
    }
   ],
   "source": [
    "conn.hgetall('status:1')"
   ]
  },
  {
   "cell_type": "code",
   "execution_count": 86,
   "metadata": {},
   "outputs": [
    {
     "name": "stdout",
     "output_type": "stream",
     "text": [
      "[]\n",
      "[]\n"
     ]
    }
   ],
   "source": [
    "print(conn.zrange('following:3', 0, -1, withscores=True))\n",
    "print(conn.zrange('followers:4', 0, -1, withscores=True))"
   ]
  },
  {
   "cell_type": "code",
   "execution_count": 87,
   "metadata": {},
   "outputs": [
    {
     "name": "stdout",
     "output_type": "stream",
     "text": [
      "{'login': 'user4', 'id': '4', 'name': 'name4', 'followers': '0', 'following': '0', 'posts': '0', 'signup': '1573991099.2824152'}\n"
     ]
    }
   ],
   "source": [
    "print(conn.hgetall('user:4'))"
   ]
  },
  {
   "cell_type": "code",
   "execution_count": null,
   "metadata": {},
   "outputs": [],
   "source": []
  }
 ],
 "metadata": {
  "kernelspec": {
   "display_name": "Python 3",
   "language": "python",
   "name": "python3"
  },
  "language_info": {
   "codemirror_mode": {
    "name": "ipython",
    "version": 3
   },
   "file_extension": ".py",
   "mimetype": "text/x-python",
   "name": "python",
   "nbconvert_exporter": "python",
   "pygments_lexer": "ipython3",
   "version": "3.7.3"
  }
 },
 "nbformat": 4,
 "nbformat_minor": 2
}
