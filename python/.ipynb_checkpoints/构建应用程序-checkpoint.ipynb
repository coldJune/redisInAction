{
 "cells": [
  {
   "cell_type": "markdown",
   "metadata": {},
   "source": [
    "# 自动补全联系人"
   ]
  },
  {
   "cell_type": "code",
   "execution_count": 240,
   "metadata": {},
   "outputs": [],
   "source": [
    "import redis\n",
    "import time\n",
    "import datetime\n",
    "import bisect\n",
    "import uuid\n",
    "import math\n",
    "import json\n",
    "conn = redis.Redis(decode_responses=True)"
   ]
  },
  {
   "cell_type": "code",
   "execution_count": 7,
   "metadata": {},
   "outputs": [],
   "source": [
    "def add_update_contact(conn, user, contact):\n",
    "    ac_list = 'recent:'+user\n",
    "    pipe = conn.pipeline(True)\n",
    "    pipe.lrem(ac_list, 0, contact)\n",
    "    pipe.lpush(ac_list, contact)\n",
    "    pipe.ltrim(ac_list, 0, 10)\n",
    "    pipe.execute()"
   ]
  },
  {
   "cell_type": "code",
   "execution_count": 16,
   "metadata": {},
   "outputs": [],
   "source": [
    "def fetch_autocomplete_list(conn, user, prefix):\n",
    "    candidates = list(conn.lrange('recent:'+user, 0, -1))\n",
    "    matches = []\n",
    "    for candidate in candidates:\n",
    "        if candidate.lower().startswith(prefix):\n",
    "            matches.append(candidate)\n",
    "    return matches"
   ]
  },
  {
   "cell_type": "code",
   "execution_count": 17,
   "metadata": {},
   "outputs": [],
   "source": [
    "add_update_contact(conn,'user1','cont')"
   ]
  },
  {
   "cell_type": "code",
   "execution_count": 18,
   "metadata": {},
   "outputs": [
    {
     "data": {
      "text/plain": [
       "['cont']"
      ]
     },
     "execution_count": 18,
     "metadata": {},
     "output_type": "execute_result"
    }
   ],
   "source": [
    "fetch_autocomplete_list(conn,'user1','con')"
   ]
  },
  {
   "cell_type": "code",
   "execution_count": 20,
   "metadata": {},
   "outputs": [],
   "source": [
    "# 通过插入在有序列表中插入前缀之前的一个字符串和之后的一个字符串来获取中间满足条件的字符串\n",
    "validate_characters = '`abcdefghijklmnopqrstuvwxyz{'\n",
    "\n",
    "def find_prefix_range(prefix):\n",
    "    posn = bisect.bisect_left(validate_characters, prefix[-1:])\n",
    "    suffix = validate_characters[(posn or 1) - 1]\n",
    "    return prefix[:-1]+suffix+'{', prefix+'}'\n"
   ]
  },
  {
   "cell_type": "code",
   "execution_count": 30,
   "metadata": {},
   "outputs": [],
   "source": [
    "def autocomplete_on_prefix(conn, guild, prefix):\n",
    "    start, end = find_prefix_range(prefix)\n",
    "    identifier = str(uuid.uuid4())\n",
    "    start += identifier\n",
    "    end += identifier\n",
    "    zset_name = 'members:'+guild\n",
    "    \n",
    "    conn.zadd(zset_name, {start: 0, end: 0})\n",
    "    pipe = conn.pipeline(True)\n",
    "    while True:\n",
    "        try:\n",
    "            pipe.watch(zset_name)\n",
    "            sindex = pipe.zrank(zset_name, start)\n",
    "            eindex = pipe.zrank(zset_name, end)\n",
    "            erange = min(sindex + 9, eindex-2)\n",
    "            pipe.multi()\n",
    "            \n",
    "            pipe.zrem(zset_name, start, end)\n",
    "            pipe.zrange(zset_name, sindex, erange)\n",
    "            items = pipe.execute()[-1]\n",
    "            break\n",
    "        except redis.exceptions.WatchError:\n",
    "            continue\n",
    "    return [item for item in items if '{' not in item]"
   ]
  },
  {
   "cell_type": "code",
   "execution_count": 23,
   "metadata": {},
   "outputs": [],
   "source": [
    "def join_guild(conn, guild, user):\n",
    "    conn.zadd('members:'+guild, {user:0})\n",
    "    \n",
    "def leave_guild(conn, guild, user):\n",
    "    conn.zrem('members:'+guild, user)"
   ]
  },
  {
   "cell_type": "code",
   "execution_count": 26,
   "metadata": {},
   "outputs": [],
   "source": [
    "join_guild(conn, 'guild1', 'use2')"
   ]
  },
  {
   "cell_type": "markdown",
   "metadata": {},
   "source": [
    "conn.zrange('members:guild1',0,-1, withscores=True)"
   ]
  },
  {
   "cell_type": "code",
   "execution_count": 32,
   "metadata": {},
   "outputs": [
    {
     "data": {
      "text/plain": [
       "['user1', 'user2']"
      ]
     },
     "execution_count": 32,
     "metadata": {},
     "output_type": "execute_result"
    }
   ],
   "source": [
    "autocomplete_on_prefix(conn, 'guild1', 'user')"
   ]
  },
  {
   "cell_type": "markdown",
   "metadata": {},
   "source": [
    "# 锁"
   ]
  },
  {
   "cell_type": "code",
   "execution_count": 107,
   "metadata": {},
   "outputs": [],
   "source": [
    "def acquire_lock(conn, lockname, acquire_timeout=10):\n",
    "    identifier = str(uuid.uuid4())\n",
    "    \n",
    "    end = time.time() + acquire_timeout\n",
    "    while time.time() < end:\n",
    "        if conn.setnx('lock:'+lockname, identifier):\n",
    "            return identifier\n",
    "        time.sleep(.001)\n",
    "    return False\n",
    "\n",
    "def release_lock(conn, lockname, identifier):\n",
    "    pipe = conn.pipeline(True)\n",
    "    lockname = 'lock:' + lockname\n",
    "    \n",
    "    while True:\n",
    "        try:\n",
    "            pipe.watch(lockname)\n",
    "            if pipe.get(lockname) == identifier:\n",
    "                pipe.multi()\n",
    "                pipe.delete(lockname)\n",
    "                pipe.execute()\n",
    "                return True\n",
    "            pipe.unwatch()\n",
    "            break\n",
    "        except redis.exceptions.RedisError:\n",
    "            pass\n",
    "        return False"
   ]
  },
  {
   "cell_type": "code",
   "execution_count": 122,
   "metadata": {},
   "outputs": [],
   "source": [
    "def purchase_item_with_lock(conn, buyerid, itemid, sellerid):\n",
    "    buyer = 'users:%s' % buyerid\n",
    "    seller = 'users:%s' % sellerid\n",
    "    item = '%s.%s' %(itemid, sellerid)\n",
    "    inventory = 'inventory:%s' %buyerid\n",
    "    \n",
    "    #locked = acquire_lock(conn, 'market:')\n",
    "    locked = acquire_lock_with_timeout(conn, 'market:')\n",
    "    if not locked:\n",
    "        print('获取锁失败')\n",
    "        return False\n",
    "    pipe = conn.pipeline(True) \n",
    "    try:\n",
    "        pipe.zscore('market:', item)\n",
    "        pipe.hget(buyer, 'funds')\n",
    "        price, funds = map(int,pipe.execute())\n",
    "        if price is None or price > funds:\n",
    "            return None\n",
    "        pipe.hincrby(seller, 'funds' , int(price))\n",
    "        pipe.hincrby(buyer, 'funds', int(-price))\n",
    "        pipe.sadd(inventory, itemid)\n",
    "        pipe.zrem('market:', item)\n",
    "        pipe.execute()\n",
    "        return True\n",
    "    finally:\n",
    "        release_lock(conn, 'market:', locked)"
   ]
  },
  {
   "cell_type": "code",
   "execution_count": 124,
   "metadata": {},
   "outputs": [
    {
     "data": {
      "text/plain": [
       "[]"
      ]
     },
     "execution_count": 124,
     "metadata": {},
     "output_type": "execute_result"
    }
   ],
   "source": [
    "conn.zrange('market:', 0, -1, withscores=True)"
   ]
  },
  {
   "cell_type": "code",
   "execution_count": 125,
   "metadata": {},
   "outputs": [
    {
     "data": {
      "text/plain": [
       "{'itemD', 'itemE', 'itemF', 'itemG', 'itemH', 'itemL'}"
      ]
     },
     "execution_count": 125,
     "metadata": {},
     "output_type": "execute_result"
    }
   ],
   "source": [
    "conn.smembers('inventory:2')"
   ]
  },
  {
   "cell_type": "code",
   "execution_count": 126,
   "metadata": {},
   "outputs": [
    {
     "data": {
      "text/plain": [
       "{'itemG', 'itemH'}"
      ]
     },
     "execution_count": 126,
     "metadata": {},
     "output_type": "execute_result"
    }
   ],
   "source": [
    "conn.smembers('inventory:1')"
   ]
  },
  {
   "cell_type": "code",
   "execution_count": 127,
   "metadata": {},
   "outputs": [
    {
     "data": {
      "text/plain": [
       "{'name': 'jim', 'funds': '140'}"
      ]
     },
     "execution_count": 127,
     "metadata": {},
     "output_type": "execute_result"
    }
   ],
   "source": [
    "conn.hgetall('users:1')"
   ]
  },
  {
   "cell_type": "code",
   "execution_count": 128,
   "metadata": {},
   "outputs": [
    {
     "data": {
      "text/plain": [
       "{'name': 'tom', 'funds': '3'}"
      ]
     },
     "execution_count": 128,
     "metadata": {},
     "output_type": "execute_result"
    }
   ],
   "source": [
    "conn.hgetall('users:2')"
   ]
  },
  {
   "cell_type": "code",
   "execution_count": 123,
   "metadata": {},
   "outputs": [
    {
     "data": {
      "text/plain": [
       "True"
      ]
     },
     "execution_count": 123,
     "metadata": {},
     "output_type": "execute_result"
    }
   ],
   "source": [
    "purchase_item_with_lock(conn, 2, 'itemL',1)"
   ]
  },
  {
   "cell_type": "code",
   "execution_count": 121,
   "metadata": {},
   "outputs": [],
   "source": [
    "def acquire_lock_with_timeout(conn, lockname, acquire_timeout=10, lock_timeout=10):\n",
    "    identifier = str(uuid.uuid4())\n",
    "    lockname = 'lock:'+lockname\n",
    "    lock_timeout = int(math.ceil(lock_timeout))\n",
    "    \n",
    "    end = time.time() + acquire_timeout\n",
    "    while time.time() < end:\n",
    "        if conn.setnx(lockname,  identifier):\n",
    "            conn.expire(lockname, lock_timeout)\n",
    "            return identifier\n",
    "        elif not conn.ttl(lockname):\n",
    "            conn.expire(lockname, lock_timeout)\n",
    "        time.sleep(.001)\n",
    "    return False\n",
    "    "
   ]
  },
  {
   "cell_type": "code",
   "execution_count": 120,
   "metadata": {},
   "outputs": [],
   "source": [
    "conn.get('lock:market:')"
   ]
  },
  {
   "cell_type": "markdown",
   "metadata": {},
   "source": [
    "# 计数信号量"
   ]
  },
  {
   "cell_type": "code",
   "execution_count": 129,
   "metadata": {},
   "outputs": [],
   "source": [
    "def acquire_semaphore(conn, semname, limit, timeout=10):\n",
    "    identifier = str(uuid.uuid4())\n",
    "    now = time.time()\n",
    "    pipeline = conn.pipeline(True)\n",
    "    pipeline.zremrangebyscore(semname, '-inf', now-timeout)\n",
    "    pipeline.zadd(semname, {identifier:now})\n",
    "    pipeline.zrank(semname, identifier)\n",
    "    if pipeline.execute()[-1] < limit:\n",
    "        return identifier\n",
    "    conn.zrem(semname, identifier)\n",
    "    return None\n",
    "\n",
    "def release_semaphore(conn, semname, identifier):\n",
    "    return conn.zrem(semname, identifier)"
   ]
  },
  {
   "cell_type": "code",
   "execution_count": 148,
   "metadata": {},
   "outputs": [
    {
     "data": {
      "text/plain": [
       "'5e0a176a-bfa2-4d19-9d9d-e232863c1fd8'"
      ]
     },
     "execution_count": 148,
     "metadata": {},
     "output_type": "execute_result"
    }
   ],
   "source": [
    "acquire_semaphore(conn, 'store', 5)"
   ]
  },
  {
   "cell_type": "code",
   "execution_count": 151,
   "metadata": {},
   "outputs": [
    {
     "data": {
      "text/plain": [
       "[]"
      ]
     },
     "execution_count": 151,
     "metadata": {},
     "output_type": "execute_result"
    }
   ],
   "source": [
    "conn.zrange('store', 0, -1, withscores=True)"
   ]
  },
  {
   "cell_type": "code",
   "execution_count": 150,
   "metadata": {},
   "outputs": [
    {
     "data": {
      "text/plain": [
       "1"
      ]
     },
     "execution_count": 150,
     "metadata": {},
     "output_type": "execute_result"
    }
   ],
   "source": [
    "release_semaphore(conn, 'store','5e0a176a-bfa2-4d19-9d9d-e232863c1fd8')"
   ]
  },
  {
   "cell_type": "code",
   "execution_count": 230,
   "metadata": {},
   "outputs": [],
   "source": [
    "# 公平信号量\n",
    "def acquire_fair_semaphore(conn, semname, limit, timeout=10):\n",
    "    identifier = str(uuid.uuid4())\n",
    "    czset = semname + ':owner'\n",
    "    ctr = semname + ':counter'\n",
    "    \n",
    "    now = time.time()\n",
    "    pipeline = conn.pipeline(True)\n",
    "    pipeline.zremrangebyscore(semname, '-inf', now-timeout)\n",
    "    pipeline.zinterstore(czset, {czset:1, semname:0})\n",
    "    \n",
    "    pipeline.incr(ctr)\n",
    "    counter = pipeline.execute()[-1]\n",
    "    \n",
    "    pipeline.zadd(semname, {identifier:now})\n",
    "    pipeline.zadd(czset, {identifier: counter})\n",
    "    pipeline.zrank(czset, identifier)\n",
    "    if pipeline.execute()[-1] < limit:\n",
    "        return identifier\n",
    "    pipeline.zrem(semname, identifier)\n",
    "    pipeline.zrem(czset, identifier)\n",
    "    pipeline.execute()\n",
    "    return None\n",
    "\n",
    "def release_fair_semaphore(conn, semname, identifier):\n",
    "    pipeline = conn.pipeline()\n",
    "    pipeline.zrem(semname, identifier)\n",
    "    pipeline.zrem(semname+':owner', identifier)\n",
    "    return pipeline.execute()[0]"
   ]
  },
  {
   "cell_type": "code",
   "execution_count": 231,
   "metadata": {},
   "outputs": [
    {
     "data": {
      "text/plain": [
       "'ea69f278-fd04-4960-a5b7-9ae5c9c0ee25'"
      ]
     },
     "execution_count": 231,
     "metadata": {},
     "output_type": "execute_result"
    }
   ],
   "source": [
    "acquire_fair_semaphore(conn, 'store', 3)"
   ]
  },
  {
   "cell_type": "code",
   "execution_count": 232,
   "metadata": {},
   "outputs": [
    {
     "data": {
      "text/plain": [
       "[('ea69f278-fd04-4960-a5b7-9ae5c9c0ee25', 19.0)]"
      ]
     },
     "execution_count": 232,
     "metadata": {},
     "output_type": "execute_result"
    }
   ],
   "source": [
    "conn.zrange('store:owner',0, -1, withscores=True)"
   ]
  },
  {
   "cell_type": "code",
   "execution_count": 233,
   "metadata": {},
   "outputs": [
    {
     "data": {
      "text/plain": [
       "'19'"
      ]
     },
     "execution_count": 233,
     "metadata": {},
     "output_type": "execute_result"
    }
   ],
   "source": [
    "conn.get('store:counter')"
   ]
  },
  {
   "cell_type": "code",
   "execution_count": 234,
   "metadata": {},
   "outputs": [
    {
     "data": {
      "text/plain": [
       "[('ea69f278-fd04-4960-a5b7-9ae5c9c0ee25', 1573269355.298795)]"
      ]
     },
     "execution_count": 234,
     "metadata": {},
     "output_type": "execute_result"
    }
   ],
   "source": [
    "conn.zrange('store', 0, -1, withscores=True)"
   ]
  },
  {
   "cell_type": "code",
   "execution_count": 221,
   "metadata": {},
   "outputs": [
    {
     "data": {
      "text/plain": [
       "1"
      ]
     },
     "execution_count": 221,
     "metadata": {},
     "output_type": "execute_result"
    }
   ],
   "source": [
    "release_fair_semaphore(conn,'store', 'd9bd8b0f-fcb2-4a25-b610-529f4b672e02')"
   ]
  },
  {
   "cell_type": "code",
   "execution_count": 226,
   "metadata": {},
   "outputs": [],
   "source": [
    "def refresh_fair_semaphore(conn, semname, identifier):\n",
    "    if conn.zadd(semname, {identifier:time.time()}):\n",
    "        refresh_fair_semaphore(conn, semname, identifier)\n",
    "        return False\n",
    "    return True"
   ]
  },
  {
   "cell_type": "code",
   "execution_count": 227,
   "metadata": {},
   "outputs": [
    {
     "data": {
      "text/plain": [
       "False"
      ]
     },
     "execution_count": 227,
     "metadata": {},
     "output_type": "execute_result"
    }
   ],
   "source": [
    "refresh_fair_semaphore(conn,'store', 'd9bd8b0f-fcb2-4a25-b610-529f4b672e02')"
   ]
  },
  {
   "cell_type": "code",
   "execution_count": 235,
   "metadata": {},
   "outputs": [],
   "source": [
    "def acquire_semaphore_with_lock(conn, semname, limit, timeout=10):\n",
    "    identifier = acquire_lock_with_timeout(conn, semname, acquire_timeout=.01)\n",
    "    if identifier:\n",
    "        try:\n",
    "            return acquire_fair_semaphore(conn, semname, limit, timeout)\n",
    "        finally:\n",
    "            release_lock(conn, semname, identifier)\n"
   ]
  },
  {
   "cell_type": "code",
   "execution_count": 239,
   "metadata": {},
   "outputs": [],
   "source": [
    "acquire_semaphore_with_lock(conn, 'store', 3)"
   ]
  },
  {
   "cell_type": "markdown",
   "metadata": {},
   "source": [
    "# 消息拉取"
   ]
  },
  {
   "cell_type": "code",
   "execution_count": 255,
   "metadata": {},
   "outputs": [],
   "source": [
    "def creat_chat(conn, sender, recipients, message, chat_id=None):\n",
    "    chat_id = chat_id or str(conn.incr('ids:chat:',1))\n",
    "    recipients.append(sender)\n",
    "    recipientsd = dict((r, 0) for r in recipients)\n",
    "    \n",
    "    pipeline = conn.pipeline(True)\n",
    "    pipeline.zadd('chat:'+chat_id, recipientsd)\n",
    "    for rec in recipients:\n",
    "        pipeline.zadd('seen:'+rec, {chat_id: 0})\n",
    "    pipeline.execute()\n",
    "    return send_message(conn, chat_id, sender, message)"
   ]
  },
  {
   "cell_type": "code",
   "execution_count": 258,
   "metadata": {},
   "outputs": [],
   "source": [
    "def send_message(conn, chat_id, sender, message):\n",
    "    identifer = acquire_lock(conn, 'chat:'+chat_id)\n",
    "    if not identifer:\n",
    "        raise Exception(\"Couldn't get the lock\")\n",
    "    try:\n",
    "        mid = conn.incr('ids:'+chat_id)\n",
    "        ts = time.time()\n",
    "        packed = json.dumps({\n",
    "            'id': mid,\n",
    "            'ts': ts,\n",
    "            'sender': sender,\n",
    "            'message': message\n",
    "        })\n",
    "        conn.zadd('msgs:'+chat_id, {packed: mid})\n",
    "    finally:\n",
    "        release_lock(conn, 'chat:'+chat_id, identifer)\n",
    "    return chat_id"
   ]
  },
  {
   "cell_type": "code",
   "execution_count": 355,
   "metadata": {},
   "outputs": [],
   "source": [
    "def fetch_pending_messages(conn, recipient):\n",
    "    seen = conn.zrange('seen:'+recipient, 0, -1, withscores=True)\n",
    "    pipe = conn.pipeline(True)\n",
    "    for chat_id, seen_id in seen:\n",
    "        pipe.zrangebyscore('msgs:'+chat_id, seen_id+1, 'inf')\n",
    "    chat_info = list(zip(seen, pipe.execute()))\n",
    "    \n",
    "    for i , ((chat_id, seen_id), messages) in enumerate(chat_info):\n",
    "        if not messages:\n",
    "            continue\n",
    "        messages[:]=map(json.loads, messages)\n",
    "        seen_id = messages[-1]['id']\n",
    "        conn.zadd('chat:'+chat_id, {recipient:seen_id})\n",
    "\n",
    "        min_id =  conn.zrange('chat:'+ chat_id, 0, 0, withscores=True)\n",
    "        pipe.zadd('seen:'+ recipient, {chat_id: seen_id})\n",
    "        if min_id:\n",
    "            pipe.zremrangebyscore('msgs:'+chat_id, 0, min_id[0][1])\n",
    "        chat_info[i] = (chat_id, messages)\n",
    "    pipe.execute()\n",
    "    return chat_info    "
   ]
  },
  {
   "cell_type": "code",
   "execution_count": 321,
   "metadata": {},
   "outputs": [],
   "source": [
    "def join_chat(conn, chat_id, user):\n",
    "    message_id = int(conn.get('ids:'+chat_id))\n",
    "    pipe = conn.pipeline(True)\n",
    "    pipe.zadd('chat:'+chat_id, {user: message_id})\n",
    "    pipe.zadd('seen:'+user, {chat_id: message_id})\n",
    "    pipe.execute()"
   ]
  },
  {
   "cell_type": "code",
   "execution_count": 324,
   "metadata": {},
   "outputs": [],
   "source": [
    "def leave_chat(conn, chat_id, user):\n",
    "    pipe = conn.pipeline(True)\n",
    "    pipe.zrem('chat:'+chat_id, user)\n",
    "    pipe.zrem('seen:'+user, chat_id)\n",
    "    pipe.zcard('chat:'+chat_id)\n",
    "    if not pipe.execute()[-1]:\n",
    "        pipe.delete('msgs:'+chat_id)\n",
    "        pipe.delete('ids:'+chat_id)\n",
    "        pipe.execute()\n",
    "    else:\n",
    "        oldest = conn.zrange('chat:'+chat_id, 0, 0, withscores=True)\n",
    "        conn.zremrangebyscore('chat:'+chat_id, 0, oldest[0][1])"
   ]
  },
  {
   "cell_type": "code",
   "execution_count": 358,
   "metadata": {},
   "outputs": [],
   "source": [
    "creat_chat(conn, 'user1', [],'message1', 'chat1')\n",
    "join_chat(conn, 'chat1','user1')\n",
    "join_chat(conn, 'chat1','user2')\n",
    "join_chat(conn, 'chat1','user3')"
   ]
  },
  {
   "cell_type": "code",
   "execution_count": 359,
   "metadata": {},
   "outputs": [
    {
     "data": {
      "text/plain": [
       "[('user1', 3.0), ('user2', 3.0), ('user3', 3.0)]"
      ]
     },
     "execution_count": 359,
     "metadata": {},
     "output_type": "execute_result"
    }
   ],
   "source": [
    "conn.zrange('chat:chat1', 0, -1, withscores=True)"
   ]
  },
  {
   "cell_type": "code",
   "execution_count": 360,
   "metadata": {},
   "outputs": [
    {
     "data": {
      "text/plain": [
       "[('chat1', 3.0)]"
      ]
     },
     "execution_count": 360,
     "metadata": {},
     "output_type": "execute_result"
    }
   ],
   "source": [
    "conn.zrange('seen:user1',0,-1, withscores=True)"
   ]
  },
  {
   "cell_type": "code",
   "execution_count": 361,
   "metadata": {},
   "outputs": [
    {
     "data": {
      "text/plain": [
       "[('chat1', 3.0)]"
      ]
     },
     "execution_count": 361,
     "metadata": {},
     "output_type": "execute_result"
    }
   ],
   "source": [
    "conn.zrange('seen:user2',0,-1,withscores=True)"
   ]
  },
  {
   "cell_type": "code",
   "execution_count": 365,
   "metadata": {},
   "outputs": [
    {
     "data": {
      "text/plain": [
       "'chat1'"
      ]
     },
     "execution_count": 365,
     "metadata": {},
     "output_type": "execute_result"
    }
   ],
   "source": [
    "send_message(conn,'chat1','user2','message2')"
   ]
  },
  {
   "cell_type": "code",
   "execution_count": 370,
   "metadata": {},
   "outputs": [
    {
     "data": {
      "text/plain": [
       "[('{\"id\": 4, \"ts\": 1573375480.7585511, \"sender\": \"user2\", \"message\": \"message2\"}',\n",
       "  4.0)]"
      ]
     },
     "execution_count": 370,
     "metadata": {},
     "output_type": "execute_result"
    }
   ],
   "source": [
    "conn.zrange('msgs:chat1', 0, -1, withscores=True)"
   ]
  },
  {
   "cell_type": "code",
   "execution_count": 368,
   "metadata": {},
   "outputs": [
    {
     "data": {
      "text/plain": [
       "[('chat1',\n",
       "  [{'id': 4,\n",
       "    'ts': 1573375480.7585511,\n",
       "    'sender': 'user2',\n",
       "    'message': 'message2'}])]"
      ]
     },
     "execution_count": 368,
     "metadata": {},
     "output_type": "execute_result"
    }
   ],
   "source": [
    "fetch_pending_messages(conn, 'user3')"
   ]
  },
  {
   "cell_type": "code",
   "execution_count": 371,
   "metadata": {},
   "outputs": [],
   "source": [
    "leave_chat(conn,'chat1','user2')"
   ]
  },
  {
   "cell_type": "code",
   "execution_count": null,
   "metadata": {},
   "outputs": [],
   "source": []
  }
 ],
 "metadata": {
  "kernelspec": {
   "display_name": "Python 3",
   "language": "python",
   "name": "python3"
  },
  "language_info": {
   "codemirror_mode": {
    "name": "ipython",
    "version": 3
   },
   "file_extension": ".py",
   "mimetype": "text/x-python",
   "name": "python",
   "nbconvert_exporter": "python",
   "pygments_lexer": "ipython3",
   "version": "3.7.3"
  }
 },
 "nbformat": 4,
 "nbformat_minor": 2
}
