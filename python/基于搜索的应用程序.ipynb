{
 "cells": [
  {
   "cell_type": "code",
   "execution_count": 6,
   "metadata": {},
   "outputs": [],
   "source": [
    "import redis\n",
    "import time\n",
    "import datetime\n",
    "import bisect\n",
    "import os\n",
    "import json\n",
    "import re\n",
    "import uuid"
   ]
  },
  {
   "cell_type": "code",
   "execution_count": 2,
   "metadata": {},
   "outputs": [],
   "source": [
    "conn = redis.Redis(decode_responses=True)"
   ]
  },
  {
   "cell_type": "code",
   "execution_count": 4,
   "metadata": {},
   "outputs": [],
   "source": [
    "STOP_WORDS = set('''able about across after all almost also am among\n",
    "an and any are as at be because been but by can cannot could dear did\n",
    "do does either else ever every for from get got had has have he her\n",
    "hers him his how however if in into is it its just least let like\n",
    "likely may me might most must my neither no nor not of off often on\n",
    "only or other our own rather said say says she should since so some\n",
    "than that the their them then there these they this tis to too twas us\n",
    "wants was we were what when where which while who whom why will with\n",
    "would yet you your'''.split()) \n",
    "WORDS_RE = re.compile(\"[a-z']{2,}\")"
   ]
  },
  {
   "cell_type": "code",
   "execution_count": 5,
   "metadata": {},
   "outputs": [],
   "source": [
    "def tokenize(content):\n",
    "    words = set()\n",
    "    for match in WORDS_RE.finditer(content.lower()):\n",
    "        word = match.group().strip(\"'\")\n",
    "        if len(word) > 2:\n",
    "            words.add(word)\n",
    "    return words - STOP_WORDS\n",
    "\n",
    "def index_document(conn, docid, content):\n",
    "    words = tokenize(content)\n",
    "    pipe = conn.pipeline(True)\n",
    "    for word in words:\n",
    "        pipe.sadd('idx:'+word, docid)\n",
    "    return len(pipe.execute())"
   ]
  },
  {
   "cell_type": "code",
   "execution_count": 7,
   "metadata": {},
   "outputs": [],
   "source": [
    "def _set_common(conn, method, names, ttl=30, execute=True):\n",
    "    id = str(uuid.uuid4())\n",
    "    pipe = conn.pipeline(True) if execute else conn\n",
    "    names = ['idx:'+name for name in names]\n",
    "    getattr(pipe, method)('idx:'+id, *names)\n",
    "    pipe.expire('idx:'+id, ttl)\n",
    "    if execute:\n",
    "        pipe.execute()\n",
    "    return id\n",
    "\n",
    "# 交集\n",
    "def intersect(conn, items, ttl=30, _execute=True):\n",
    "    return _set_common(conn, 'sinterstore', items, ttl, _execute)\n",
    "\n",
    "# 并集\n",
    "def union(conn, items, ttl=30, _execute=True):\n",
    "    return _set_common(conn, 'sunionstore', items, ttl, _execute)\n",
    "\n",
    "# 差集\n",
    "def difference(conn, item, ttl=30, _execute=True):\n",
    "    return _set_common(conn, 'sdiffstore', items, ttl, _execute)"
   ]
  },
  {
   "cell_type": "code",
   "execution_count": 11,
   "metadata": {},
   "outputs": [],
   "source": [
    "QUERY_RE = re.compile(\"[+-]?[a-z']{2,}\")\n",
    "\n",
    "def parse(query):\n",
    "    unwatched = set()\n",
    "    all = []\n",
    "    current = set()\n",
    "    for match in QUERY_RE.finditer(query.lower()):\n",
    "        word = match.group()\n",
    "        prefix = word[:1]\n",
    "        if prefix in '+-':\n",
    "            word = word[1:]\n",
    "        else:\n",
    "            prefix = None\n",
    "        word = word.strip(\"'\")\n",
    "        if len(word) < 2 or word in STOP_WORDS:\n",
    "            continue\n",
    "        if prefix == '-':\n",
    "            unwatched.add(word)\n",
    "            continue\n",
    "        if current and not prefix:\n",
    "            all.append(list(current))\n",
    "            current = set()\n",
    "        current.add(word)\n",
    "    if current:\n",
    "        all.append(list(current))\n",
    "    return all, list(unwatched)"
   ]
  },
  {
   "cell_type": "code",
   "execution_count": 12,
   "metadata": {},
   "outputs": [
    {
     "data": {
      "text/plain": [
       "([['conect', 'disconnect', 'connection'], ['chat']], ['proxies', 'proxy'])"
      ]
     },
     "execution_count": 12,
     "metadata": {},
     "output_type": "execute_result"
    }
   ],
   "source": [
    "parse('''\n",
    "conect +connection +disconnect +disconnect\n",
    "chat\n",
    "-proxy -proxies\n",
    "''')"
   ]
  },
  {
   "cell_type": "code",
   "execution_count": 13,
   "metadata": {},
   "outputs": [],
   "source": [
    "def parse_and_search(conn, query, ttl=30):\n",
    "    all, unwatched = parse(query)\n",
    "    if not all:\n",
    "        return None\n",
    "    to_intersect = []\n",
    "    for syn in all:\n",
    "        if len(syn) > 1:\n",
    "            to_intersect.append(union(conn, syn, ttl=ttl))\n",
    "        else:\n",
    "            to_intersect.append(syn[0])\n",
    "        \n",
    "        if len(to_intersect) > 1:\n",
    "            intersect_result = intersect(conn, to_intersect, ttl=ttl)\n",
    "        else:\n",
    "            intersect_result = to_intersect[0]\n",
    "        \n",
    "        if unwatched:\n",
    "            unwatched.insert(0, intersect_result)\n",
    "            return difference(conn, unwatched, ttl=ttl)\n",
    "        return intersect_result"
   ]
  },
  {
   "cell_type": "code",
   "execution_count": 44,
   "metadata": {},
   "outputs": [
    {
     "data": {
      "text/plain": [
       "30"
      ]
     },
     "execution_count": 44,
     "metadata": {},
     "output_type": "execute_result"
    }
   ],
   "source": [
    "index_document(conn, 'doc1', '''#B Set up a transactional pipeline so that we have consistent results for each individual call\n",
    "#C Add the 'idx:' prefix to our terms\n",
    "#D Set up the call for one of the operations\n",
    "#E Instruct Redis to expire the SET in the future\n",
    "#F Actually execute the operation\n",
    "#G Return the id for the caller to process the results\n",
    "#H Helper function to perform SET intersections\n",
    "#I Helper function to perform SET unions\n",
    "#J Helper function to perform SET differences''')"
   ]
  },
  {
   "cell_type": "code",
   "execution_count": 45,
   "metadata": {},
   "outputs": [
    {
     "data": {
      "text/plain": [
       "39"
      ]
     },
     "execution_count": 45,
     "metadata": {},
     "output_type": "execute_result"
    }
   ],
   "source": [
    "index_document(conn, 'doc2', '''#A Our regular expression for finding wanted, unwanted, and synonym words\n",
    "#B A unique set of unwanted words Return\n",
    "#C Our final result of words that we are looking to intersect\n",
    "#D The current unique set of words to consider as synonyms\n",
    "#E Iterate over all words in the search query\n",
    "#F Discover +/- prefixes, if any\n",
    "#G Strip any leading or trailing single quotes, and skip anything that is a stop word\n",
    "#H If the word is unwanted, add it to the unwanted set\n",
    "#I Set up a new synonym set if we have no synonym prefix and we already have words\n",
    "#J Add the current word to the current set\n",
    "#K Add any remaining words to the final intersection\n",
    "#END''')"
   ]
  },
  {
   "cell_type": "code",
   "execution_count": 21,
   "metadata": {},
   "outputs": [
    {
     "data": {
      "text/plain": [
       "'4368b4e8-45e6-4b0d-9227-62aa0a097170'"
      ]
     },
     "execution_count": 21,
     "metadata": {},
     "output_type": "execute_result"
    }
   ],
   "source": [
    "parse_and_search(conn,'current +unique')"
   ]
  },
  {
   "cell_type": "code",
   "execution_count": 23,
   "metadata": {},
   "outputs": [
    {
     "data": {
      "text/plain": [
       "{'doc2'}"
      ]
     },
     "execution_count": 23,
     "metadata": {},
     "output_type": "execute_result"
    }
   ],
   "source": [
    "conn.smembers('idx:4368b4e8-45e6-4b0d-9227-62aa0a097170')"
   ]
  },
  {
   "cell_type": "code",
   "execution_count": 24,
   "metadata": {},
   "outputs": [],
   "source": [
    "def search_and_sort(conn, query, id=None, ttl=300, sort='-updated',\n",
    "                   start=0, num=20):\n",
    "    desc = sort.startswith('-')\n",
    "    sort = sort.lstrip('-')\n",
    "    by = 'kb:doc:*->' + sort\n",
    "    alpha = sort not in ('updated', 'id', 'created')\n",
    "    if id and not conn.expire(id, ttl):\n",
    "        id = None\n",
    "    if not id:\n",
    "        id = parse_and_search(conn, query, ttl=ttl)\n",
    "        \n",
    "    pipe = conn.pipeline(True)\n",
    "    pipe.scard('idx:'+id)\n",
    "    pipe.sort('idx:'+id, by=by, alpha=alpha, desc=desc, \n",
    "              start=start, num=num)\n",
    "    results = pipe.execute()\n",
    "    return results[0], results[1], id"
   ]
  },
  {
   "cell_type": "code",
   "execution_count": 25,
   "metadata": {},
   "outputs": [
    {
     "data": {
      "text/plain": [
       "(1, ['doc2'], 'e01e4a3c-d63e-438b-9903-54d4488977ec')"
      ]
     },
     "execution_count": 25,
     "metadata": {},
     "output_type": "execute_result"
    }
   ],
   "source": [
    "search_and_sort(conn,'current +unique')"
   ]
  },
  {
   "cell_type": "markdown",
   "metadata": {},
   "source": [
    "# 有序索引"
   ]
  },
  {
   "cell_type": "code",
   "execution_count": 48,
   "metadata": {},
   "outputs": [],
   "source": [
    "def _zset_common(conn, method, scores, ttl=30, **kw):\n",
    "    id = str(uuid.uuid4())\n",
    "    execute = kw.pop('_execute', True)\n",
    "    pipe = conn.pipeline(True) if execute else conn\n",
    "    for key in scores.keys():\n",
    "        scores['idx:'+key] = scores.pop(key)\n",
    "    print(scores)\n",
    "    getattr(pipe, method)('idx:'+id, scores, **kw)\n",
    "    pipe.expire('idx:'+id, ttl)\n",
    "    if execute:\n",
    "        pipe.execute()\n",
    "    return id\n",
    "\n",
    "def zintersect(conn, items, ttl=30, **kw):\n",
    "    return _zset_common(conn, 'zinterstore', dict(items), ttl, **kw)\n",
    "\n",
    "def zunion(conn, items, ttl=30, **kw):\n",
    "    return _zset_common(conn, 'zunionstore', dict(items), ttl, **kw)"
   ]
  },
  {
   "cell_type": "code",
   "execution_count": 49,
   "metadata": {},
   "outputs": [],
   "source": [
    "def search_and_zsort(conn, query, id=None, ttl=300, update=1,\n",
    "                    vote=0, start=0, num=20, desc=True):\n",
    "    if id and not conn.expire(id, ttl):\n",
    "        id = None\n",
    "    if not id:\n",
    "        id = parse_and_search(conn, query, ttl=ttl)\n",
    "        scored_search = {\n",
    "            id: 0,\n",
    "            'sort:update': update,\n",
    "            'sort:votes': vote\n",
    "        }\n",
    "        id = zintersect(conn, scored_search, ttl)\n",
    "    \n",
    "    pipe = conn.pipeline(True)\n",
    "    pipe.zcard('idx:'+id)\n",
    "    if desc:\n",
    "        pipe.zrevrange('idx:'+id, start, start+num-1)\n",
    "    else:\n",
    "        pipe.zrange('idx:'+id, start, start+num-1)\n",
    "    results = pipe.execute()\n",
    "    return results[0], results[1], id"
   ]
  },
  {
   "cell_type": "code",
   "execution_count": 59,
   "metadata": {},
   "outputs": [
    {
     "data": {
      "text/plain": [
       "(2, ['doc2', 'doc1'], '469ea137-5588-4749-8c5a-07708ba4f720')"
      ]
     },
     "execution_count": 59,
     "metadata": {},
     "output_type": "execute_result"
    }
   ],
   "source": [
    "conn.zadd('idx:sort:update', {'doc1': 1, 'doc2': 10})\n",
    "conn.zadd('idx:sort:votes', {'doc1': 10, 'doc2': 1})\n",
    "search_and_zsort(conn,'set +return')"
   ]
  },
  {
   "cell_type": "code",
   "execution_count": 52,
   "metadata": {},
   "outputs": [
    {
     "data": {
      "text/plain": [
       "0"
      ]
     },
     "execution_count": 52,
     "metadata": {},
     "output_type": "execute_result"
    }
   ],
   "source": [
    "conn.zinterstore('test', dict({'idx:c83c4224-fcdc-457f-b08c-199320752e8f': 0, 'idx:sort:update': 1, 'idx:sort:votes': 0}))"
   ]
  },
  {
   "cell_type": "code",
   "execution_count": 54,
   "metadata": {},
   "outputs": [
    {
     "data": {
      "text/plain": [
       "[]"
      ]
     },
     "execution_count": 54,
     "metadata": {},
     "output_type": "execute_result"
    }
   ],
   "source": [
    "conn.zrange('test',0,-1)"
   ]
  },
  {
   "cell_type": "code",
   "execution_count": null,
   "metadata": {},
   "outputs": [],
   "source": [
    "conn.zinterstore('test',{'id':1,'id'})"
   ]
  },
  {
   "cell_type": "markdown",
   "metadata": {},
   "source": [
    "# 广告定向"
   ]
  },
  {
   "cell_type": "code",
   "execution_count": 60,
   "metadata": {},
   "outputs": [],
   "source": [
    "def cpc_to_ecpm(views, clicks, cpc):\n",
    "    return 1000 * cpc * clicks / views\n",
    "\n",
    "def cpa_to_ecpm(views, actions, cpa):\n",
    "    return 1000 * cpa * actions / views"
   ]
  },
  {
   "cell_type": "code",
   "execution_count": 73,
   "metadata": {},
   "outputs": [],
   "source": [
    "TO_ECPM = {\n",
    "    'cpc': cpc_to_ecpm,\n",
    "    'cpa': cpa_to_ecpm,\n",
    "    'cpm': lambda * args:args[-1]\n",
    "}\n",
    "AVERAGE_PER_1K = {}\n",
    "def index_ad(conn, id, locations, content, type, value):\n",
    "    pipe = conn.pipeline(True)\n",
    "    for location in locations:\n",
    "        pipe.sadd('idx:req:'+location, id)\n",
    "        \n",
    "    words = tokenize(content)\n",
    "    for word in words:\n",
    "        pipe.zadd('idx:'+word, {id:0})\n",
    "    \n",
    "    rvalue = TO_ECPM[type](1000, AVERAGE_PER_1K.get(type, 1), value)\n",
    "    pipe.hset('type:', id, type)\n",
    "    pipe.zadd('idx:ad:value:', {id:rvalue})\n",
    "    pipe.zadd('ad:base_value:', {id: value})\n",
    "    pipe.sadd('terms:'+id, *list(words))\n",
    "    pipe.execute()"
   ]
  },
  {
   "cell_type": "code",
   "execution_count": 79,
   "metadata": {},
   "outputs": [],
   "source": [
    "def matched_location(pipe, locations):\n",
    "    required = ['req:'+loc for loc in locations]\n",
    "    matched_ads = union(pipe, required, ttl=30, _execute=False)\n",
    "    return matched_ads, zintersect(pipe, {matched_ads:0, 'ad:value:':1},\n",
    "                                  _execute=False)"
   ]
  },
  {
   "cell_type": "code",
   "execution_count": 66,
   "metadata": {},
   "outputs": [],
   "source": [
    "def finish_scoring(pipe, matched, base, content):\n",
    "    bonus_ecpm = {}\n",
    "    words = tokenize(content)\n",
    "    for word in words:\n",
    "        word_bonus = zintersect(pipe, {matched:0, word: 1}, _execute=False)\n",
    "        bonus_ecpm[word_bonus] = 1\n",
    "    if bonus_ecpm:\n",
    "        minimum = zunion(pipe, bonus_ecpm, aggregate='MIN', _execute=False)\n",
    "        maximum = zunion(pipe, bonus_ecpm, aggregate='MAX', _execute=False)\n",
    "        \n",
    "        return words, zunion(pipe, {base:1, minimum:.5, maximum:.5}, _execute=False)\n",
    "    return words, base"
   ]
  },
  {
   "cell_type": "code",
   "execution_count": 89,
   "metadata": {},
   "outputs": [],
   "source": [
    "def record_targeting_result(conn, target_id, ad_id, words):\n",
    "    pipe = conn.pipeline(True)\n",
    "    terms = conn.smembers('terms:'+ad_id)\n",
    "    matched = list(words & terms)\n",
    "    if matched:\n",
    "        matched_key = 'terms:matched:%s' % target_id\n",
    "        pipe.sadd(matched_key, * matched)\n",
    "        pipe.expire(matched_key, 900)\n",
    "    type = conn.hget('type:', ad_id)\n",
    "    pipe.incr('type:%s:views:'%type, 1)\n",
    "    for word in matched:\n",
    "        pipe.zincrby('views:%s' % ad_id, 1, word)\n",
    "    pipe.zincrby('views:%s' %ad_id, 1, '')\n",
    "    if not pipe.execute()[-1] % 100:\n",
    "        update_cpms(conn, ad_id)"
   ]
  },
  {
   "cell_type": "code",
   "execution_count": 127,
   "metadata": {},
   "outputs": [],
   "source": [
    "def record_click(conn, target_id, ad_id, action=False):\n",
    "    pipe = conn.pipeline(True)\n",
    "    click_key = 'clicks:%s' %ad_id\n",
    "    match_key = 'terms:matched:%s' %target_id\n",
    "    \n",
    "    type = conn.hget('type:', ad_id)\n",
    "    if type == 'cpa':\n",
    "        pipe.expire(match_key, 900)\n",
    "        if action:\n",
    "            click_key = 'actions:%s' % ad_id\n",
    "    if action and type=='cpa':\n",
    "        pipe.incr('type:%s:actions:' %type)\n",
    "    else:\n",
    "        pipe.incr('type:%s:clicks:' % type)\n",
    "        \n",
    "    matched = list(conn.smembers(match_key))\n",
    "    matched.append('')\n",
    "    for word in matched:\n",
    "        pipe.zincrby(click_key, 1, word)\n",
    "    pipe.execute()\n",
    "    \n",
    "    update_cpms(conn, ad_id)"
   ]
  },
  {
   "cell_type": "code",
   "execution_count": 111,
   "metadata": {},
   "outputs": [],
   "source": [
    "def update_cpms(conn, ad_id):\n",
    "    pipe = conn.pipeline(True)\n",
    "    pipe.hget('type:', ad_id)\n",
    "    pipe.zscore('ad:base_value:', ad_id)\n",
    "    pipe.smembers('terms:'+ad_id)\n",
    "    type, base_value, words = pipe.execute()\n",
    "    \n",
    "    which = 'clicks'\n",
    "    if type == 'cpa':\n",
    "        which = 'actions'\n",
    "    pipe.get('type:%s:views:' %type)\n",
    "    pipe.get('type:%s:%s' %(type, which))\n",
    "    type_views, type_clicks = pipe.execute()\n",
    "    \n",
    "    AVERAGE_PER_1K[type] = (1000 * int(type_clicks or '1')/ int(type_views or '1'))\n",
    "    if type == 'cpm':\n",
    "        return\n",
    "    view_key = 'view:%s' %ad_id\n",
    "    click_key = '%s:%s' %(which, ad_id)\n",
    "    \n",
    "    to_ecpm = TO_ECPM[type]\n",
    "    \n",
    "    pipe.zscore(view_key, ' ')\n",
    "    pipe.zscore(click_key, ' ')\n",
    "    ad_views, ad_clicks = pipe.execute()\n",
    "    if (ad_clicks or 0 ) < 1:\n",
    "        ad_ecpm = conn.zscore('idx:ad:value:', ad_id)\n",
    "    else:\n",
    "        ad_ecpm = to_ecpm(ad_views or 1, ad_clicks or 0, base_value)\n",
    "        pipe.zadd('idx:ad:value', {ad_id:ad_ecpm})\n",
    "    for word in words:\n",
    "        pipe.zscore(view_key, word)\n",
    "        pipe.zscore(click_key, word)\n",
    "        views, clicks = pipe.execute()[-2:]\n",
    "        if (clicks or 0) < 1:\n",
    "            continue\n",
    "        \n",
    "        word_ecpm = to_ecpm(views or 1, clicks or 0, base_value)\n",
    "        bonus = word_ecpm - ad_ecpm\n",
    "        pipe.zadd('idx:'+word, {ad_id: bonus})\n",
    "    pipe.execute()"
   ]
  },
  {
   "cell_type": "code",
   "execution_count": 93,
   "metadata": {},
   "outputs": [],
   "source": [
    "def target_ads(conn, locations, content):\n",
    "    pipe = conn.pipeline(True)\n",
    "    matched_ads, base_ecpm = matched_location(pipe, locations)\n",
    "    words, targeted_ads = finish_scoring(pipe, matched_ads, base_ecpm, content)\n",
    "    pipe.incr('ads:served:',1)\n",
    "    pipe.zrevrange('idx:'+targeted_ads, 0, 0)\n",
    "    target_id, targeted_ad = pipe.execute()[-2:]\n",
    "    if not targeted_ad:\n",
    "        return None, None\n",
    "    ad_id = targeted_ad[0]\n",
    "    record_targeting_result(conn, target_id, ad_id, words)\n",
    "    return target_id, ad_id"
   ]
  },
  {
   "cell_type": "code",
   "execution_count": 70,
   "metadata": {},
   "outputs": [],
   "source": [
    "conn = redis.Redis(db=1,decode_responses=True)"
   ]
  },
  {
   "cell_type": "code",
   "execution_count": 74,
   "metadata": {},
   "outputs": [],
   "source": [
    " content = 'this is some random content, look at how it is indexed.'\n",
    "index_ad(conn, '1', ['成都', '重庆'], content, 'cpc',.25)\n",
    "index_ad(conn, '2', ['成都', '北京'], content+'haha', 'cpc', .125)"
   ]
  },
  {
   "cell_type": "code",
   "execution_count": 77,
   "metadata": {},
   "outputs": [
    {
     "name": "stdout",
     "output_type": "stream",
     "text": [
      "{'1': 'cpc', '2': 'cpc'}\n",
      "[('2', 0.125), ('1', 0.25)]\n",
      "[('2', 0.125), ('1', 0.25)]\n",
      "{'random', 'indexed', 'content', 'look'}\n",
      "{'haha', 'content', 'look', 'indexed', 'random'}\n"
     ]
    }
   ],
   "source": [
    "    print(conn.hgetall('type:'))\n",
    "    print(conn.zrange('idx:ad:value:', 0, -1, withscores=True))\n",
    "    print(conn.zrange('ad:base_value:', 0, -1, withscores=True))\n",
    "    print(conn.smembers('terms:1'))\n",
    "    print(conn.smembers('terms:2'))"
   ]
  },
  {
   "cell_type": "code",
   "execution_count": 119,
   "metadata": {},
   "outputs": [],
   "source": [
    "for i in range(100):\n",
    "       ro = target_ads(conn, ['成都'], content)"
   ]
  },
  {
   "cell_type": "code",
   "execution_count": 120,
   "metadata": {},
   "outputs": [
    {
     "name": "stdout",
     "output_type": "stream",
     "text": [
      "(608, '1')\n"
     ]
    }
   ],
   "source": [
    "print(ro)"
   ]
  },
  {
   "cell_type": "code",
   "execution_count": 121,
   "metadata": {},
   "outputs": [
    {
     "name": "stdout",
     "output_type": "stream",
     "text": [
      "(609, '2')\n"
     ]
    }
   ],
   "source": [
    "print(target_ads(conn, ['北京'], 'haha'))"
   ]
  },
  {
   "cell_type": "code",
   "execution_count": 122,
   "metadata": {},
   "outputs": [
    {
     "name": "stdout",
     "output_type": "stream",
     "text": [
      "[('2', 0.125), ('1', 0.25)]\n",
      "[('2', 0.125), ('1', 0.25)]\n"
     ]
    }
   ],
   "source": [
    "print(conn.zrange('idx:ad:value:',0,-1, withscores=True))\n",
    "print(conn.zrange('ad:base_value:',0,-1, withscores=True))"
   ]
  },
  {
   "cell_type": "code",
   "execution_count": 128,
   "metadata": {},
   "outputs": [],
   "source": [
    "for i in range(100):\n",
    "    record_click(conn, ro[0],ro[1])"
   ]
  },
  {
   "cell_type": "code",
   "execution_count": 129,
   "metadata": {},
   "outputs": [
    {
     "name": "stdout",
     "output_type": "stream",
     "text": [
      "[('2', 0.125), ('1', 0.25)]\n",
      "[('2', 0.125), ('1', 0.25)]\n"
     ]
    }
   ],
   "source": [
    "print(conn.zrange('idx:ad:value:',0,-1, withscores=True))\n",
    "print(conn.zrange('ad:base_value:',0,-1, withscores=True))"
   ]
  },
  {
   "cell_type": "code",
   "execution_count": 69,
   "metadata": {},
   "outputs": [],
   "source": [
    "def test_index_and_target_ads(self):\n",
    "        index_ad(self.conn, '1', ['USA', 'CA'], self.content, 'cpc', .25)\n",
    "        index_ad(self.conn, '2', ['USA', 'VA'], self.content + ' wooooo', 'cpc', .125)\n",
    "\n",
    "        for i in range(100):\n",
    "            ro = target_ads(self.conn, ['USA'], self.content)\n",
    "        self.assertEqual(ro[1], b'1')\n",
    "\n",
    "        r = target_ads(self.conn, ['VA'], 'wooooo')\n",
    "        self.assertEqual(r[1], b'2')\n",
    "\n",
    "        self.assertEqual(self.conn.zrange('idx:ad:value:', 0, -1, withscores=True), [(b'2', 0.125), (b'1', 0.25)])\n",
    "        self.assertEqual(self.conn.zrange('ad:base_value:', 0, -1, withscores=True), [(b'2', 0.125), (b'1', 0.25)])\n",
    "\n",
    "        record_click(self.conn, ro[0], ro[1])\n",
    "\n",
    "        self.assertEqual(self.conn.zrange('idx:ad:value:', 0, -1, withscores=True), [(b'2', 0.125), (b'1', 2.5)])\n",
    "        self.assertEqual(self.conn.zrange('ad:base_value:', 0, -1, withscores=True), [(b'2', 0.125), (b'1', 0.25)])"
   ]
  },
  {
   "cell_type": "code",
   "execution_count": null,
   "metadata": {},
   "outputs": [],
   "source": []
  }
 ],
 "metadata": {
  "kernelspec": {
   "display_name": "Python 3",
   "language": "python",
   "name": "python3"
  },
  "language_info": {
   "codemirror_mode": {
    "name": "ipython",
    "version": 3
   },
   "file_extension": ".py",
   "mimetype": "text/x-python",
   "name": "python",
   "nbconvert_exporter": "python",
   "pygments_lexer": "ipython3",
   "version": "3.7.3"
  }
 },
 "nbformat": 4,
 "nbformat_minor": 2
}
